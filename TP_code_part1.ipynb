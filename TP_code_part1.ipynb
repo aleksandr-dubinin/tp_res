{
  "cells": [
    {
      "cell_type": "markdown",
      "metadata": {
        "id": "YVn-TN_anbWW"
      },
      "source": [
        "# Uploading"
      ]
    },
    {
      "cell_type": "code",
      "execution_count": 1,
      "metadata": {
        "colab": {
          "base_uri": "https://localhost:8080/",
          "height": 73
        },
        "id": "7aUI0emSnZ_L",
        "outputId": "fdd95eef-37dc-4ed5-dbf1-f215ff10a5fe"
      },
      "outputs": [
        {
          "output_type": "display_data",
          "data": {
            "text/plain": [
              "<IPython.core.display.HTML object>"
            ],
            "text/html": [
              "\n",
              "     <input type=\"file\" id=\"files-77b64c12-7384-423b-b98a-68c19130b1a2\" name=\"files[]\" multiple disabled\n",
              "        style=\"border:none\" />\n",
              "     <output id=\"result-77b64c12-7384-423b-b98a-68c19130b1a2\">\n",
              "      Upload widget is only available when the cell has been executed in the\n",
              "      current browser session. Please rerun this cell to enable.\n",
              "      </output>\n",
              "      <script>// Copyright 2017 Google LLC\n",
              "//\n",
              "// Licensed under the Apache License, Version 2.0 (the \"License\");\n",
              "// you may not use this file except in compliance with the License.\n",
              "// You may obtain a copy of the License at\n",
              "//\n",
              "//      http://www.apache.org/licenses/LICENSE-2.0\n",
              "//\n",
              "// Unless required by applicable law or agreed to in writing, software\n",
              "// distributed under the License is distributed on an \"AS IS\" BASIS,\n",
              "// WITHOUT WARRANTIES OR CONDITIONS OF ANY KIND, either express or implied.\n",
              "// See the License for the specific language governing permissions and\n",
              "// limitations under the License.\n",
              "\n",
              "/**\n",
              " * @fileoverview Helpers for google.colab Python module.\n",
              " */\n",
              "(function(scope) {\n",
              "function span(text, styleAttributes = {}) {\n",
              "  const element = document.createElement('span');\n",
              "  element.textContent = text;\n",
              "  for (const key of Object.keys(styleAttributes)) {\n",
              "    element.style[key] = styleAttributes[key];\n",
              "  }\n",
              "  return element;\n",
              "}\n",
              "\n",
              "// Max number of bytes which will be uploaded at a time.\n",
              "const MAX_PAYLOAD_SIZE = 100 * 1024;\n",
              "\n",
              "function _uploadFiles(inputId, outputId) {\n",
              "  const steps = uploadFilesStep(inputId, outputId);\n",
              "  const outputElement = document.getElementById(outputId);\n",
              "  // Cache steps on the outputElement to make it available for the next call\n",
              "  // to uploadFilesContinue from Python.\n",
              "  outputElement.steps = steps;\n",
              "\n",
              "  return _uploadFilesContinue(outputId);\n",
              "}\n",
              "\n",
              "// This is roughly an async generator (not supported in the browser yet),\n",
              "// where there are multiple asynchronous steps and the Python side is going\n",
              "// to poll for completion of each step.\n",
              "// This uses a Promise to block the python side on completion of each step,\n",
              "// then passes the result of the previous step as the input to the next step.\n",
              "function _uploadFilesContinue(outputId) {\n",
              "  const outputElement = document.getElementById(outputId);\n",
              "  const steps = outputElement.steps;\n",
              "\n",
              "  const next = steps.next(outputElement.lastPromiseValue);\n",
              "  return Promise.resolve(next.value.promise).then((value) => {\n",
              "    // Cache the last promise value to make it available to the next\n",
              "    // step of the generator.\n",
              "    outputElement.lastPromiseValue = value;\n",
              "    return next.value.response;\n",
              "  });\n",
              "}\n",
              "\n",
              "/**\n",
              " * Generator function which is called between each async step of the upload\n",
              " * process.\n",
              " * @param {string} inputId Element ID of the input file picker element.\n",
              " * @param {string} outputId Element ID of the output display.\n",
              " * @return {!Iterable<!Object>} Iterable of next steps.\n",
              " */\n",
              "function* uploadFilesStep(inputId, outputId) {\n",
              "  const inputElement = document.getElementById(inputId);\n",
              "  inputElement.disabled = false;\n",
              "\n",
              "  const outputElement = document.getElementById(outputId);\n",
              "  outputElement.innerHTML = '';\n",
              "\n",
              "  const pickedPromise = new Promise((resolve) => {\n",
              "    inputElement.addEventListener('change', (e) => {\n",
              "      resolve(e.target.files);\n",
              "    });\n",
              "  });\n",
              "\n",
              "  const cancel = document.createElement('button');\n",
              "  inputElement.parentElement.appendChild(cancel);\n",
              "  cancel.textContent = 'Cancel upload';\n",
              "  const cancelPromise = new Promise((resolve) => {\n",
              "    cancel.onclick = () => {\n",
              "      resolve(null);\n",
              "    };\n",
              "  });\n",
              "\n",
              "  // Wait for the user to pick the files.\n",
              "  const files = yield {\n",
              "    promise: Promise.race([pickedPromise, cancelPromise]),\n",
              "    response: {\n",
              "      action: 'starting',\n",
              "    }\n",
              "  };\n",
              "\n",
              "  cancel.remove();\n",
              "\n",
              "  // Disable the input element since further picks are not allowed.\n",
              "  inputElement.disabled = true;\n",
              "\n",
              "  if (!files) {\n",
              "    return {\n",
              "      response: {\n",
              "        action: 'complete',\n",
              "      }\n",
              "    };\n",
              "  }\n",
              "\n",
              "  for (const file of files) {\n",
              "    const li = document.createElement('li');\n",
              "    li.append(span(file.name, {fontWeight: 'bold'}));\n",
              "    li.append(span(\n",
              "        `(${file.type || 'n/a'}) - ${file.size} bytes, ` +\n",
              "        `last modified: ${\n",
              "            file.lastModifiedDate ? file.lastModifiedDate.toLocaleDateString() :\n",
              "                                    'n/a'} - `));\n",
              "    const percent = span('0% done');\n",
              "    li.appendChild(percent);\n",
              "\n",
              "    outputElement.appendChild(li);\n",
              "\n",
              "    const fileDataPromise = new Promise((resolve) => {\n",
              "      const reader = new FileReader();\n",
              "      reader.onload = (e) => {\n",
              "        resolve(e.target.result);\n",
              "      };\n",
              "      reader.readAsArrayBuffer(file);\n",
              "    });\n",
              "    // Wait for the data to be ready.\n",
              "    let fileData = yield {\n",
              "      promise: fileDataPromise,\n",
              "      response: {\n",
              "        action: 'continue',\n",
              "      }\n",
              "    };\n",
              "\n",
              "    // Use a chunked sending to avoid message size limits. See b/62115660.\n",
              "    let position = 0;\n",
              "    do {\n",
              "      const length = Math.min(fileData.byteLength - position, MAX_PAYLOAD_SIZE);\n",
              "      const chunk = new Uint8Array(fileData, position, length);\n",
              "      position += length;\n",
              "\n",
              "      const base64 = btoa(String.fromCharCode.apply(null, chunk));\n",
              "      yield {\n",
              "        response: {\n",
              "          action: 'append',\n",
              "          file: file.name,\n",
              "          data: base64,\n",
              "        },\n",
              "      };\n",
              "\n",
              "      let percentDone = fileData.byteLength === 0 ?\n",
              "          100 :\n",
              "          Math.round((position / fileData.byteLength) * 100);\n",
              "      percent.textContent = `${percentDone}% done`;\n",
              "\n",
              "    } while (position < fileData.byteLength);\n",
              "  }\n",
              "\n",
              "  // All done.\n",
              "  yield {\n",
              "    response: {\n",
              "      action: 'complete',\n",
              "    }\n",
              "  };\n",
              "}\n",
              "\n",
              "scope.google = scope.google || {};\n",
              "scope.google.colab = scope.google.colab || {};\n",
              "scope.google.colab._files = {\n",
              "  _uploadFiles,\n",
              "  _uploadFilesContinue,\n",
              "};\n",
              "})(self);\n",
              "</script> "
            ]
          },
          "metadata": {}
        },
        {
          "output_type": "stream",
          "name": "stdout",
          "text": [
            "Saving gebaeude_batiment_edificio.csv to gebaeude_batiment_edificio.csv\n"
          ]
        }
      ],
      "source": [
        "from google.colab import files\n",
        "\n",
        "# This will prompt you to upload a file\n",
        "uploaded = files.upload()"
      ]
    },
    {
      "cell_type": "code",
      "execution_count": 2,
      "metadata": {
        "colab": {
          "base_uri": "https://localhost:8080/"
        },
        "id": "-587UVA7oJm6",
        "outputId": "cf98cedb-956d-4e5b-8796-06f273835d55"
      },
      "outputs": [
        {
          "output_type": "stream",
          "name": "stderr",
          "text": [
            "<ipython-input-2-05dfe0e2f35a>:4: DtypeWarning: Columns (6) have mixed types. Specify dtype option on import or set low_memory=False.\n",
            "  df_batiment_initial = pd.read_csv('gebaeude_batiment_edificio.csv', sep='\\t')\n"
          ]
        }
      ],
      "source": [
        "import pandas as pd\n",
        "\n",
        "# Load the CSV file into a DataFrame\n",
        "df_batiment_initial = pd.read_csv('gebaeude_batiment_edificio.csv', sep='\\t')"
      ]
    },
    {
      "cell_type": "code",
      "execution_count": 3,
      "metadata": {
        "id": "wbIoJmWtp8ao"
      },
      "outputs": [],
      "source": [
        "df_batiment = df_batiment_initial"
      ]
    },
    {
      "cell_type": "code",
      "execution_count": 4,
      "metadata": {
        "colab": {
          "base_uri": "https://localhost:8080/"
        },
        "id": "B5FgAgLCoOnB",
        "outputId": "709006c5-2208-48ae-c05a-4d1c4365b392"
      },
      "outputs": [
        {
          "output_type": "execute_result",
          "data": {
            "text/plain": [
              "(245987, 47)"
            ]
          },
          "metadata": {},
          "execution_count": 4
        }
      ],
      "source": [
        "df_batiment.shape"
      ]
    },
    {
      "cell_type": "code",
      "execution_count": null,
      "metadata": {
        "colab": {
          "base_uri": "https://localhost:8080/",
          "height": 1000
        },
        "id": "aYk_aTfKq9y-",
        "outputId": "24c2aa8f-29bc-4331-d3f4-31efd26824b1"
      },
      "outputs": [
        {
          "data": {
            "text/html": [
              "<div>\n",
              "<style scoped>\n",
              "    .dataframe tbody tr th:only-of-type {\n",
              "        vertical-align: middle;\n",
              "    }\n",
              "\n",
              "    .dataframe tbody tr th {\n",
              "        vertical-align: top;\n",
              "    }\n",
              "\n",
              "    .dataframe thead th {\n",
              "        text-align: right;\n",
              "    }\n",
              "</style>\n",
              "<table border=\"1\" class=\"dataframe\">\n",
              "  <thead>\n",
              "    <tr style=\"text-align: right;\">\n",
              "      <th></th>\n",
              "      <th>0</th>\n",
              "    </tr>\n",
              "  </thead>\n",
              "  <tbody>\n",
              "    <tr>\n",
              "      <th>EGID</th>\n",
              "      <td>245987</td>\n",
              "    </tr>\n",
              "    <tr>\n",
              "      <th>GDEKT</th>\n",
              "      <td>245987</td>\n",
              "    </tr>\n",
              "    <tr>\n",
              "      <th>GGDENR</th>\n",
              "      <td>245987</td>\n",
              "    </tr>\n",
              "    <tr>\n",
              "      <th>GGDENAME</th>\n",
              "      <td>245987</td>\n",
              "    </tr>\n",
              "    <tr>\n",
              "      <th>EGRID</th>\n",
              "      <td>221097</td>\n",
              "    </tr>\n",
              "    <tr>\n",
              "      <th>LGBKR</th>\n",
              "      <td>245892</td>\n",
              "    </tr>\n",
              "    <tr>\n",
              "      <th>LPARZ</th>\n",
              "      <td>245892</td>\n",
              "    </tr>\n",
              "    <tr>\n",
              "      <th>LPARZSX</th>\n",
              "      <td>0</td>\n",
              "    </tr>\n",
              "    <tr>\n",
              "      <th>LTYP</th>\n",
              "      <td>0</td>\n",
              "    </tr>\n",
              "    <tr>\n",
              "      <th>GEBNR</th>\n",
              "      <td>245850</td>\n",
              "    </tr>\n",
              "    <tr>\n",
              "      <th>GBEZ</th>\n",
              "      <td>23449</td>\n",
              "    </tr>\n",
              "    <tr>\n",
              "      <th>GKODE</th>\n",
              "      <td>245987</td>\n",
              "    </tr>\n",
              "    <tr>\n",
              "      <th>GKODN</th>\n",
              "      <td>245987</td>\n",
              "    </tr>\n",
              "    <tr>\n",
              "      <th>GKSCE</th>\n",
              "      <td>245987</td>\n",
              "    </tr>\n",
              "    <tr>\n",
              "      <th>GSTAT</th>\n",
              "      <td>245987</td>\n",
              "    </tr>\n",
              "    <tr>\n",
              "      <th>GKAT</th>\n",
              "      <td>245970</td>\n",
              "    </tr>\n",
              "    <tr>\n",
              "      <th>GKLAS</th>\n",
              "      <td>243487</td>\n",
              "    </tr>\n",
              "    <tr>\n",
              "      <th>GBAUJ</th>\n",
              "      <td>212258</td>\n",
              "    </tr>\n",
              "    <tr>\n",
              "      <th>GBAUM</th>\n",
              "      <td>21387</td>\n",
              "    </tr>\n",
              "    <tr>\n",
              "      <th>GBAUP</th>\n",
              "      <td>228531</td>\n",
              "    </tr>\n",
              "    <tr>\n",
              "      <th>GABBJ</th>\n",
              "      <td>8049</td>\n",
              "    </tr>\n",
              "    <tr>\n",
              "      <th>GAREA</th>\n",
              "      <td>244887</td>\n",
              "    </tr>\n",
              "    <tr>\n",
              "      <th>GVOL</th>\n",
              "      <td>0</td>\n",
              "    </tr>\n",
              "    <tr>\n",
              "      <th>GVOLNORM</th>\n",
              "      <td>0</td>\n",
              "    </tr>\n",
              "    <tr>\n",
              "      <th>GVOLSCE</th>\n",
              "      <td>0</td>\n",
              "    </tr>\n",
              "    <tr>\n",
              "      <th>GASTW</th>\n",
              "      <td>148456</td>\n",
              "    </tr>\n",
              "    <tr>\n",
              "      <th>GANZWHG</th>\n",
              "      <td>143158</td>\n",
              "    </tr>\n",
              "    <tr>\n",
              "      <th>GAZZI</th>\n",
              "      <td>5219</td>\n",
              "    </tr>\n",
              "    <tr>\n",
              "      <th>GSCHUTZR</th>\n",
              "      <td>76115</td>\n",
              "    </tr>\n",
              "    <tr>\n",
              "      <th>GEBF</th>\n",
              "      <td>26598</td>\n",
              "    </tr>\n",
              "    <tr>\n",
              "      <th>GWAERZH1</th>\n",
              "      <td>156014</td>\n",
              "    </tr>\n",
              "    <tr>\n",
              "      <th>GENH1</th>\n",
              "      <td>158021</td>\n",
              "    </tr>\n",
              "    <tr>\n",
              "      <th>GWAERSCEH1</th>\n",
              "      <td>156007</td>\n",
              "    </tr>\n",
              "    <tr>\n",
              "      <th>GWAERDATH1</th>\n",
              "      <td>156007</td>\n",
              "    </tr>\n",
              "    <tr>\n",
              "      <th>GWAERZH2</th>\n",
              "      <td>38979</td>\n",
              "    </tr>\n",
              "    <tr>\n",
              "      <th>GENH2</th>\n",
              "      <td>38979</td>\n",
              "    </tr>\n",
              "    <tr>\n",
              "      <th>GWAERSCEH2</th>\n",
              "      <td>38979</td>\n",
              "    </tr>\n",
              "    <tr>\n",
              "      <th>GWAERDATH2</th>\n",
              "      <td>38979</td>\n",
              "    </tr>\n",
              "    <tr>\n",
              "      <th>GWAERZW1</th>\n",
              "      <td>244648</td>\n",
              "    </tr>\n",
              "    <tr>\n",
              "      <th>GENW1</th>\n",
              "      <td>244648</td>\n",
              "    </tr>\n",
              "    <tr>\n",
              "      <th>GWAERSCEW1</th>\n",
              "      <td>244648</td>\n",
              "    </tr>\n",
              "    <tr>\n",
              "      <th>GWAERDATW1</th>\n",
              "      <td>244648</td>\n",
              "    </tr>\n",
              "    <tr>\n",
              "      <th>GWAERZW2</th>\n",
              "      <td>187882</td>\n",
              "    </tr>\n",
              "    <tr>\n",
              "      <th>GENW2</th>\n",
              "      <td>187882</td>\n",
              "    </tr>\n",
              "    <tr>\n",
              "      <th>GWAERSCEW2</th>\n",
              "      <td>187882</td>\n",
              "    </tr>\n",
              "    <tr>\n",
              "      <th>GWAERDATW2</th>\n",
              "      <td>187882</td>\n",
              "    </tr>\n",
              "    <tr>\n",
              "      <th>GEXPDAT</th>\n",
              "      <td>245987</td>\n",
              "    </tr>\n",
              "  </tbody>\n",
              "</table>\n",
              "</div><br><label><b>dtype:</b> int64</label>"
            ],
            "text/plain": [
              "EGID          245987\n",
              "GDEKT         245987\n",
              "GGDENR        245987\n",
              "GGDENAME      245987\n",
              "EGRID         221097\n",
              "LGBKR         245892\n",
              "LPARZ         245892\n",
              "LPARZSX            0\n",
              "LTYP               0\n",
              "GEBNR         245850\n",
              "GBEZ           23449\n",
              "GKODE         245987\n",
              "GKODN         245987\n",
              "GKSCE         245987\n",
              "GSTAT         245987\n",
              "GKAT          245970\n",
              "GKLAS         243487\n",
              "GBAUJ         212258\n",
              "GBAUM          21387\n",
              "GBAUP         228531\n",
              "GABBJ           8049\n",
              "GAREA         244887\n",
              "GVOL               0\n",
              "GVOLNORM           0\n",
              "GVOLSCE            0\n",
              "GASTW         148456\n",
              "GANZWHG       143158\n",
              "GAZZI           5219\n",
              "GSCHUTZR       76115\n",
              "GEBF           26598\n",
              "GWAERZH1      156014\n",
              "GENH1         158021\n",
              "GWAERSCEH1    156007\n",
              "GWAERDATH1    156007\n",
              "GWAERZH2       38979\n",
              "GENH2          38979\n",
              "GWAERSCEH2     38979\n",
              "GWAERDATH2     38979\n",
              "GWAERZW1      244648\n",
              "GENW1         244648\n",
              "GWAERSCEW1    244648\n",
              "GWAERDATW1    244648\n",
              "GWAERZW2      187882\n",
              "GENW2         187882\n",
              "GWAERSCEW2    187882\n",
              "GWAERDATW2    187882\n",
              "GEXPDAT       245987\n",
              "dtype: int64"
            ]
          },
          "execution_count": 13,
          "metadata": {},
          "output_type": "execute_result"
        }
      ],
      "source": [
        "df_batiment.count()"
      ]
    },
    {
      "cell_type": "code",
      "execution_count": null,
      "metadata": {
        "colab": {
          "base_uri": "https://localhost:8080/",
          "height": 342
        },
        "id": "CemP4muAoSQp",
        "outputId": "39ceaab4-2429-446f-c56f-8fbd3bd630ae"
      },
      "outputs": [
        {
          "data": {
            "application/vnd.google.colaboratory.intrinsic+json": {
              "type": "dataframe",
              "variable_name": "df_batiment"
            },
            "text/html": [
              "\n",
              "  <div id=\"df-792a679e-ffa5-4e67-bb17-79ec1bedfbcd\" class=\"colab-df-container\">\n",
              "    <div>\n",
              "<style scoped>\n",
              "    .dataframe tbody tr th:only-of-type {\n",
              "        vertical-align: middle;\n",
              "    }\n",
              "\n",
              "    .dataframe tbody tr th {\n",
              "        vertical-align: top;\n",
              "    }\n",
              "\n",
              "    .dataframe thead th {\n",
              "        text-align: right;\n",
              "    }\n",
              "</style>\n",
              "<table border=\"1\" class=\"dataframe\">\n",
              "  <thead>\n",
              "    <tr style=\"text-align: right;\">\n",
              "      <th></th>\n",
              "      <th>EGID</th>\n",
              "      <th>GDEKT</th>\n",
              "      <th>GGDENR</th>\n",
              "      <th>GGDENAME</th>\n",
              "      <th>EGRID</th>\n",
              "      <th>LGBKR</th>\n",
              "      <th>LPARZ</th>\n",
              "      <th>LPARZSX</th>\n",
              "      <th>LTYP</th>\n",
              "      <th>GEBNR</th>\n",
              "      <th>...</th>\n",
              "      <th>GWAERDATH2</th>\n",
              "      <th>GWAERZW1</th>\n",
              "      <th>GENW1</th>\n",
              "      <th>GWAERSCEW1</th>\n",
              "      <th>GWAERDATW1</th>\n",
              "      <th>GWAERZW2</th>\n",
              "      <th>GENW2</th>\n",
              "      <th>GWAERSCEW2</th>\n",
              "      <th>GWAERDATW2</th>\n",
              "      <th>GEXPDAT</th>\n",
              "    </tr>\n",
              "  </thead>\n",
              "  <tbody>\n",
              "    <tr>\n",
              "      <th>0</th>\n",
              "      <td>101075652</td>\n",
              "      <td>VD</td>\n",
              "      <td>5401</td>\n",
              "      <td>Aigle</td>\n",
              "      <td>CH358183994597</td>\n",
              "      <td>0.0</td>\n",
              "      <td>3717</td>\n",
              "      <td>NaN</td>\n",
              "      <td>NaN</td>\n",
              "      <td>2943</td>\n",
              "      <td>...</td>\n",
              "      <td>NaN</td>\n",
              "      <td>7630.0</td>\n",
              "      <td>7520.0</td>\n",
              "      <td>869.0</td>\n",
              "      <td>2006-08-09</td>\n",
              "      <td>NaN</td>\n",
              "      <td>NaN</td>\n",
              "      <td>NaN</td>\n",
              "      <td>NaN</td>\n",
              "      <td>2024-11-10</td>\n",
              "    </tr>\n",
              "    <tr>\n",
              "      <th>1</th>\n",
              "      <td>101075653</td>\n",
              "      <td>VD</td>\n",
              "      <td>5401</td>\n",
              "      <td>Aigle</td>\n",
              "      <td>CH409945818349</td>\n",
              "      <td>0.0</td>\n",
              "      <td>3718</td>\n",
              "      <td>NaN</td>\n",
              "      <td>NaN</td>\n",
              "      <td>2944</td>\n",
              "      <td>...</td>\n",
              "      <td>NaN</td>\n",
              "      <td>7630.0</td>\n",
              "      <td>7520.0</td>\n",
              "      <td>869.0</td>\n",
              "      <td>2006-08-09</td>\n",
              "      <td>NaN</td>\n",
              "      <td>NaN</td>\n",
              "      <td>NaN</td>\n",
              "      <td>NaN</td>\n",
              "      <td>2024-11-10</td>\n",
              "    </tr>\n",
              "    <tr>\n",
              "      <th>2</th>\n",
              "      <td>101075656</td>\n",
              "      <td>VD</td>\n",
              "      <td>5401</td>\n",
              "      <td>Aigle</td>\n",
              "      <td>CH227824834564</td>\n",
              "      <td>0.0</td>\n",
              "      <td>1117</td>\n",
              "      <td>NaN</td>\n",
              "      <td>NaN</td>\n",
              "      <td>2931</td>\n",
              "      <td>...</td>\n",
              "      <td>NaN</td>\n",
              "      <td>7630.0</td>\n",
              "      <td>7520.0</td>\n",
              "      <td>869.0</td>\n",
              "      <td>2005-04-27</td>\n",
              "      <td>NaN</td>\n",
              "      <td>NaN</td>\n",
              "      <td>NaN</td>\n",
              "      <td>NaN</td>\n",
              "      <td>2024-11-10</td>\n",
              "    </tr>\n",
              "    <tr>\n",
              "      <th>3</th>\n",
              "      <td>101075657</td>\n",
              "      <td>VD</td>\n",
              "      <td>5401</td>\n",
              "      <td>Aigle</td>\n",
              "      <td>CH444583770360</td>\n",
              "      <td>0.0</td>\n",
              "      <td>3170</td>\n",
              "      <td>NaN</td>\n",
              "      <td>NaN</td>\n",
              "      <td>2935</td>\n",
              "      <td>...</td>\n",
              "      <td>NaN</td>\n",
              "      <td>7630.0</td>\n",
              "      <td>7520.0</td>\n",
              "      <td>869.0</td>\n",
              "      <td>2005-04-27</td>\n",
              "      <td>NaN</td>\n",
              "      <td>NaN</td>\n",
              "      <td>NaN</td>\n",
              "      <td>NaN</td>\n",
              "      <td>2024-11-10</td>\n",
              "    </tr>\n",
              "    <tr>\n",
              "      <th>4</th>\n",
              "      <td>101075658</td>\n",
              "      <td>VD</td>\n",
              "      <td>5401</td>\n",
              "      <td>Aigle</td>\n",
              "      <td>NaN</td>\n",
              "      <td>0.0</td>\n",
              "      <td>3670</td>\n",
              "      <td>NaN</td>\n",
              "      <td>NaN</td>\n",
              "      <td>2939a</td>\n",
              "      <td>...</td>\n",
              "      <td>NaN</td>\n",
              "      <td>7630.0</td>\n",
              "      <td>7520.0</td>\n",
              "      <td>869.0</td>\n",
              "      <td>2005-04-29</td>\n",
              "      <td>NaN</td>\n",
              "      <td>NaN</td>\n",
              "      <td>NaN</td>\n",
              "      <td>NaN</td>\n",
              "      <td>2024-11-10</td>\n",
              "    </tr>\n",
              "  </tbody>\n",
              "</table>\n",
              "<p>5 rows × 47 columns</p>\n",
              "</div>\n",
              "    <div class=\"colab-df-buttons\">\n",
              "\n",
              "  <div class=\"colab-df-container\">\n",
              "    <button class=\"colab-df-convert\" onclick=\"convertToInteractive('df-792a679e-ffa5-4e67-bb17-79ec1bedfbcd')\"\n",
              "            title=\"Convert this dataframe to an interactive table.\"\n",
              "            style=\"display:none;\">\n",
              "\n",
              "  <svg xmlns=\"http://www.w3.org/2000/svg\" height=\"24px\" viewBox=\"0 -960 960 960\">\n",
              "    <path d=\"M120-120v-720h720v720H120Zm60-500h600v-160H180v160Zm220 220h160v-160H400v160Zm0 220h160v-160H400v160ZM180-400h160v-160H180v160Zm440 0h160v-160H620v160ZM180-180h160v-160H180v160Zm440 0h160v-160H620v160Z\"/>\n",
              "  </svg>\n",
              "    </button>\n",
              "\n",
              "  <style>\n",
              "    .colab-df-container {\n",
              "      display:flex;\n",
              "      gap: 12px;\n",
              "    }\n",
              "\n",
              "    .colab-df-convert {\n",
              "      background-color: #E8F0FE;\n",
              "      border: none;\n",
              "      border-radius: 50%;\n",
              "      cursor: pointer;\n",
              "      display: none;\n",
              "      fill: #1967D2;\n",
              "      height: 32px;\n",
              "      padding: 0 0 0 0;\n",
              "      width: 32px;\n",
              "    }\n",
              "\n",
              "    .colab-df-convert:hover {\n",
              "      background-color: #E2EBFA;\n",
              "      box-shadow: 0px 1px 2px rgba(60, 64, 67, 0.3), 0px 1px 3px 1px rgba(60, 64, 67, 0.15);\n",
              "      fill: #174EA6;\n",
              "    }\n",
              "\n",
              "    .colab-df-buttons div {\n",
              "      margin-bottom: 4px;\n",
              "    }\n",
              "\n",
              "    [theme=dark] .colab-df-convert {\n",
              "      background-color: #3B4455;\n",
              "      fill: #D2E3FC;\n",
              "    }\n",
              "\n",
              "    [theme=dark] .colab-df-convert:hover {\n",
              "      background-color: #434B5C;\n",
              "      box-shadow: 0px 1px 3px 1px rgba(0, 0, 0, 0.15);\n",
              "      filter: drop-shadow(0px 1px 2px rgba(0, 0, 0, 0.3));\n",
              "      fill: #FFFFFF;\n",
              "    }\n",
              "  </style>\n",
              "\n",
              "    <script>\n",
              "      const buttonEl =\n",
              "        document.querySelector('#df-792a679e-ffa5-4e67-bb17-79ec1bedfbcd button.colab-df-convert');\n",
              "      buttonEl.style.display =\n",
              "        google.colab.kernel.accessAllowed ? 'block' : 'none';\n",
              "\n",
              "      async function convertToInteractive(key) {\n",
              "        const element = document.querySelector('#df-792a679e-ffa5-4e67-bb17-79ec1bedfbcd');\n",
              "        const dataTable =\n",
              "          await google.colab.kernel.invokeFunction('convertToInteractive',\n",
              "                                                    [key], {});\n",
              "        if (!dataTable) return;\n",
              "\n",
              "        const docLinkHtml = 'Like what you see? Visit the ' +\n",
              "          '<a target=\"_blank\" href=https://colab.research.google.com/notebooks/data_table.ipynb>data table notebook</a>'\n",
              "          + ' to learn more about interactive tables.';\n",
              "        element.innerHTML = '';\n",
              "        dataTable['output_type'] = 'display_data';\n",
              "        await google.colab.output.renderOutput(dataTable, element);\n",
              "        const docLink = document.createElement('div');\n",
              "        docLink.innerHTML = docLinkHtml;\n",
              "        element.appendChild(docLink);\n",
              "      }\n",
              "    </script>\n",
              "  </div>\n",
              "\n",
              "\n",
              "<div id=\"df-517811fc-0cfc-49df-a8bf-0dc9f3a7c51c\">\n",
              "  <button class=\"colab-df-quickchart\" onclick=\"quickchart('df-517811fc-0cfc-49df-a8bf-0dc9f3a7c51c')\"\n",
              "            title=\"Suggest charts\"\n",
              "            style=\"display:none;\">\n",
              "\n",
              "<svg xmlns=\"http://www.w3.org/2000/svg\" height=\"24px\"viewBox=\"0 0 24 24\"\n",
              "     width=\"24px\">\n",
              "    <g>\n",
              "        <path d=\"M19 3H5c-1.1 0-2 .9-2 2v14c0 1.1.9 2 2 2h14c1.1 0 2-.9 2-2V5c0-1.1-.9-2-2-2zM9 17H7v-7h2v7zm4 0h-2V7h2v10zm4 0h-2v-4h2v4z\"/>\n",
              "    </g>\n",
              "</svg>\n",
              "  </button>\n",
              "\n",
              "<style>\n",
              "  .colab-df-quickchart {\n",
              "      --bg-color: #E8F0FE;\n",
              "      --fill-color: #1967D2;\n",
              "      --hover-bg-color: #E2EBFA;\n",
              "      --hover-fill-color: #174EA6;\n",
              "      --disabled-fill-color: #AAA;\n",
              "      --disabled-bg-color: #DDD;\n",
              "  }\n",
              "\n",
              "  [theme=dark] .colab-df-quickchart {\n",
              "      --bg-color: #3B4455;\n",
              "      --fill-color: #D2E3FC;\n",
              "      --hover-bg-color: #434B5C;\n",
              "      --hover-fill-color: #FFFFFF;\n",
              "      --disabled-bg-color: #3B4455;\n",
              "      --disabled-fill-color: #666;\n",
              "  }\n",
              "\n",
              "  .colab-df-quickchart {\n",
              "    background-color: var(--bg-color);\n",
              "    border: none;\n",
              "    border-radius: 50%;\n",
              "    cursor: pointer;\n",
              "    display: none;\n",
              "    fill: var(--fill-color);\n",
              "    height: 32px;\n",
              "    padding: 0;\n",
              "    width: 32px;\n",
              "  }\n",
              "\n",
              "  .colab-df-quickchart:hover {\n",
              "    background-color: var(--hover-bg-color);\n",
              "    box-shadow: 0 1px 2px rgba(60, 64, 67, 0.3), 0 1px 3px 1px rgba(60, 64, 67, 0.15);\n",
              "    fill: var(--button-hover-fill-color);\n",
              "  }\n",
              "\n",
              "  .colab-df-quickchart-complete:disabled,\n",
              "  .colab-df-quickchart-complete:disabled:hover {\n",
              "    background-color: var(--disabled-bg-color);\n",
              "    fill: var(--disabled-fill-color);\n",
              "    box-shadow: none;\n",
              "  }\n",
              "\n",
              "  .colab-df-spinner {\n",
              "    border: 2px solid var(--fill-color);\n",
              "    border-color: transparent;\n",
              "    border-bottom-color: var(--fill-color);\n",
              "    animation:\n",
              "      spin 1s steps(1) infinite;\n",
              "  }\n",
              "\n",
              "  @keyframes spin {\n",
              "    0% {\n",
              "      border-color: transparent;\n",
              "      border-bottom-color: var(--fill-color);\n",
              "      border-left-color: var(--fill-color);\n",
              "    }\n",
              "    20% {\n",
              "      border-color: transparent;\n",
              "      border-left-color: var(--fill-color);\n",
              "      border-top-color: var(--fill-color);\n",
              "    }\n",
              "    30% {\n",
              "      border-color: transparent;\n",
              "      border-left-color: var(--fill-color);\n",
              "      border-top-color: var(--fill-color);\n",
              "      border-right-color: var(--fill-color);\n",
              "    }\n",
              "    40% {\n",
              "      border-color: transparent;\n",
              "      border-right-color: var(--fill-color);\n",
              "      border-top-color: var(--fill-color);\n",
              "    }\n",
              "    60% {\n",
              "      border-color: transparent;\n",
              "      border-right-color: var(--fill-color);\n",
              "    }\n",
              "    80% {\n",
              "      border-color: transparent;\n",
              "      border-right-color: var(--fill-color);\n",
              "      border-bottom-color: var(--fill-color);\n",
              "    }\n",
              "    90% {\n",
              "      border-color: transparent;\n",
              "      border-bottom-color: var(--fill-color);\n",
              "    }\n",
              "  }\n",
              "</style>\n",
              "\n",
              "  <script>\n",
              "    async function quickchart(key) {\n",
              "      const quickchartButtonEl =\n",
              "        document.querySelector('#' + key + ' button');\n",
              "      quickchartButtonEl.disabled = true;  // To prevent multiple clicks.\n",
              "      quickchartButtonEl.classList.add('colab-df-spinner');\n",
              "      try {\n",
              "        const charts = await google.colab.kernel.invokeFunction(\n",
              "            'suggestCharts', [key], {});\n",
              "      } catch (error) {\n",
              "        console.error('Error during call to suggestCharts:', error);\n",
              "      }\n",
              "      quickchartButtonEl.classList.remove('colab-df-spinner');\n",
              "      quickchartButtonEl.classList.add('colab-df-quickchart-complete');\n",
              "    }\n",
              "    (() => {\n",
              "      let quickchartButtonEl =\n",
              "        document.querySelector('#df-517811fc-0cfc-49df-a8bf-0dc9f3a7c51c button');\n",
              "      quickchartButtonEl.style.display =\n",
              "        google.colab.kernel.accessAllowed ? 'block' : 'none';\n",
              "    })();\n",
              "  </script>\n",
              "</div>\n",
              "\n",
              "    </div>\n",
              "  </div>\n"
            ],
            "text/plain": [
              "        EGID GDEKT  GGDENR GGDENAME           EGRID  LGBKR LPARZ  LPARZSX  \\\n",
              "0  101075652    VD    5401    Aigle  CH358183994597    0.0  3717      NaN   \n",
              "1  101075653    VD    5401    Aigle  CH409945818349    0.0  3718      NaN   \n",
              "2  101075656    VD    5401    Aigle  CH227824834564    0.0  1117      NaN   \n",
              "3  101075657    VD    5401    Aigle  CH444583770360    0.0  3170      NaN   \n",
              "4  101075658    VD    5401    Aigle             NaN    0.0  3670      NaN   \n",
              "\n",
              "   LTYP  GEBNR  ... GWAERDATH2  GWAERZW1   GENW1  GWAERSCEW1  GWAERDATW1  \\\n",
              "0   NaN   2943  ...        NaN    7630.0  7520.0       869.0  2006-08-09   \n",
              "1   NaN   2944  ...        NaN    7630.0  7520.0       869.0  2006-08-09   \n",
              "2   NaN   2931  ...        NaN    7630.0  7520.0       869.0  2005-04-27   \n",
              "3   NaN   2935  ...        NaN    7630.0  7520.0       869.0  2005-04-27   \n",
              "4   NaN  2939a  ...        NaN    7630.0  7520.0       869.0  2005-04-29   \n",
              "\n",
              "   GWAERZW2  GENW2  GWAERSCEW2  GWAERDATW2     GEXPDAT  \n",
              "0       NaN    NaN         NaN         NaN  2024-11-10  \n",
              "1       NaN    NaN         NaN         NaN  2024-11-10  \n",
              "2       NaN    NaN         NaN         NaN  2024-11-10  \n",
              "3       NaN    NaN         NaN         NaN  2024-11-10  \n",
              "4       NaN    NaN         NaN         NaN  2024-11-10  \n",
              "\n",
              "[5 rows x 47 columns]"
            ]
          },
          "execution_count": 11,
          "metadata": {},
          "output_type": "execute_result"
        }
      ],
      "source": [
        "df_batiment.head()"
      ]
    },
    {
      "cell_type": "code",
      "execution_count": null,
      "metadata": {
        "colab": {
          "base_uri": "https://localhost:8080/",
          "height": 73
        },
        "id": "3b4x5bYEndcB",
        "outputId": "a01f8227-92e7-462e-eff9-47864432dd65"
      },
      "outputs": [
        {
          "data": {
            "text/html": [
              "\n",
              "     <input type=\"file\" id=\"files-2e47e03e-8cd6-40ab-8f09-2ef1d4808cb3\" name=\"files[]\" multiple disabled\n",
              "        style=\"border:none\" />\n",
              "     <output id=\"result-2e47e03e-8cd6-40ab-8f09-2ef1d4808cb3\">\n",
              "      Upload widget is only available when the cell has been executed in the\n",
              "      current browser session. Please rerun this cell to enable.\n",
              "      </output>\n",
              "      <script>// Copyright 2017 Google LLC\n",
              "//\n",
              "// Licensed under the Apache License, Version 2.0 (the \"License\");\n",
              "// you may not use this file except in compliance with the License.\n",
              "// You may obtain a copy of the License at\n",
              "//\n",
              "//      http://www.apache.org/licenses/LICENSE-2.0\n",
              "//\n",
              "// Unless required by applicable law or agreed to in writing, software\n",
              "// distributed under the License is distributed on an \"AS IS\" BASIS,\n",
              "// WITHOUT WARRANTIES OR CONDITIONS OF ANY KIND, either express or implied.\n",
              "// See the License for the specific language governing permissions and\n",
              "// limitations under the License.\n",
              "\n",
              "/**\n",
              " * @fileoverview Helpers for google.colab Python module.\n",
              " */\n",
              "(function(scope) {\n",
              "function span(text, styleAttributes = {}) {\n",
              "  const element = document.createElement('span');\n",
              "  element.textContent = text;\n",
              "  for (const key of Object.keys(styleAttributes)) {\n",
              "    element.style[key] = styleAttributes[key];\n",
              "  }\n",
              "  return element;\n",
              "}\n",
              "\n",
              "// Max number of bytes which will be uploaded at a time.\n",
              "const MAX_PAYLOAD_SIZE = 100 * 1024;\n",
              "\n",
              "function _uploadFiles(inputId, outputId) {\n",
              "  const steps = uploadFilesStep(inputId, outputId);\n",
              "  const outputElement = document.getElementById(outputId);\n",
              "  // Cache steps on the outputElement to make it available for the next call\n",
              "  // to uploadFilesContinue from Python.\n",
              "  outputElement.steps = steps;\n",
              "\n",
              "  return _uploadFilesContinue(outputId);\n",
              "}\n",
              "\n",
              "// This is roughly an async generator (not supported in the browser yet),\n",
              "// where there are multiple asynchronous steps and the Python side is going\n",
              "// to poll for completion of each step.\n",
              "// This uses a Promise to block the python side on completion of each step,\n",
              "// then passes the result of the previous step as the input to the next step.\n",
              "function _uploadFilesContinue(outputId) {\n",
              "  const outputElement = document.getElementById(outputId);\n",
              "  const steps = outputElement.steps;\n",
              "\n",
              "  const next = steps.next(outputElement.lastPromiseValue);\n",
              "  return Promise.resolve(next.value.promise).then((value) => {\n",
              "    // Cache the last promise value to make it available to the next\n",
              "    // step of the generator.\n",
              "    outputElement.lastPromiseValue = value;\n",
              "    return next.value.response;\n",
              "  });\n",
              "}\n",
              "\n",
              "/**\n",
              " * Generator function which is called between each async step of the upload\n",
              " * process.\n",
              " * @param {string} inputId Element ID of the input file picker element.\n",
              " * @param {string} outputId Element ID of the output display.\n",
              " * @return {!Iterable<!Object>} Iterable of next steps.\n",
              " */\n",
              "function* uploadFilesStep(inputId, outputId) {\n",
              "  const inputElement = document.getElementById(inputId);\n",
              "  inputElement.disabled = false;\n",
              "\n",
              "  const outputElement = document.getElementById(outputId);\n",
              "  outputElement.innerHTML = '';\n",
              "\n",
              "  const pickedPromise = new Promise((resolve) => {\n",
              "    inputElement.addEventListener('change', (e) => {\n",
              "      resolve(e.target.files);\n",
              "    });\n",
              "  });\n",
              "\n",
              "  const cancel = document.createElement('button');\n",
              "  inputElement.parentElement.appendChild(cancel);\n",
              "  cancel.textContent = 'Cancel upload';\n",
              "  const cancelPromise = new Promise((resolve) => {\n",
              "    cancel.onclick = () => {\n",
              "      resolve(null);\n",
              "    };\n",
              "  });\n",
              "\n",
              "  // Wait for the user to pick the files.\n",
              "  const files = yield {\n",
              "    promise: Promise.race([pickedPromise, cancelPromise]),\n",
              "    response: {\n",
              "      action: 'starting',\n",
              "    }\n",
              "  };\n",
              "\n",
              "  cancel.remove();\n",
              "\n",
              "  // Disable the input element since further picks are not allowed.\n",
              "  inputElement.disabled = true;\n",
              "\n",
              "  if (!files) {\n",
              "    return {\n",
              "      response: {\n",
              "        action: 'complete',\n",
              "      }\n",
              "    };\n",
              "  }\n",
              "\n",
              "  for (const file of files) {\n",
              "    const li = document.createElement('li');\n",
              "    li.append(span(file.name, {fontWeight: 'bold'}));\n",
              "    li.append(span(\n",
              "        `(${file.type || 'n/a'}) - ${file.size} bytes, ` +\n",
              "        `last modified: ${\n",
              "            file.lastModifiedDate ? file.lastModifiedDate.toLocaleDateString() :\n",
              "                                    'n/a'} - `));\n",
              "    const percent = span('0% done');\n",
              "    li.appendChild(percent);\n",
              "\n",
              "    outputElement.appendChild(li);\n",
              "\n",
              "    const fileDataPromise = new Promise((resolve) => {\n",
              "      const reader = new FileReader();\n",
              "      reader.onload = (e) => {\n",
              "        resolve(e.target.result);\n",
              "      };\n",
              "      reader.readAsArrayBuffer(file);\n",
              "    });\n",
              "    // Wait for the data to be ready.\n",
              "    let fileData = yield {\n",
              "      promise: fileDataPromise,\n",
              "      response: {\n",
              "        action: 'continue',\n",
              "      }\n",
              "    };\n",
              "\n",
              "    // Use a chunked sending to avoid message size limits. See b/62115660.\n",
              "    let position = 0;\n",
              "    do {\n",
              "      const length = Math.min(fileData.byteLength - position, MAX_PAYLOAD_SIZE);\n",
              "      const chunk = new Uint8Array(fileData, position, length);\n",
              "      position += length;\n",
              "\n",
              "      const base64 = btoa(String.fromCharCode.apply(null, chunk));\n",
              "      yield {\n",
              "        response: {\n",
              "          action: 'append',\n",
              "          file: file.name,\n",
              "          data: base64,\n",
              "        },\n",
              "      };\n",
              "\n",
              "      let percentDone = fileData.byteLength === 0 ?\n",
              "          100 :\n",
              "          Math.round((position / fileData.byteLength) * 100);\n",
              "      percent.textContent = `${percentDone}% done`;\n",
              "\n",
              "    } while (position < fileData.byteLength);\n",
              "  }\n",
              "\n",
              "  // All done.\n",
              "  yield {\n",
              "    response: {\n",
              "      action: 'complete',\n",
              "    }\n",
              "  };\n",
              "}\n",
              "\n",
              "scope.google = scope.google || {};\n",
              "scope.google.colab = scope.google.colab || {};\n",
              "scope.google.colab._files = {\n",
              "  _uploadFiles,\n",
              "  _uploadFilesContinue,\n",
              "};\n",
              "})(self);\n",
              "</script> "
            ],
            "text/plain": [
              "<IPython.core.display.HTML object>"
            ]
          },
          "metadata": {},
          "output_type": "display_data"
        },
        {
          "name": "stdout",
          "output_type": "stream",
          "text": [
            "Saving kodes_codes_codici.csv to kodes_codes_codici.csv\n"
          ]
        }
      ],
      "source": [
        "from google.colab import files\n",
        "\n",
        "# This will prompt you to upload a file\n",
        "uploaded = files.upload()"
      ]
    },
    {
      "cell_type": "code",
      "execution_count": null,
      "metadata": {
        "id": "ijxjF2Kloj72"
      },
      "outputs": [],
      "source": [
        "import pandas as pd\n",
        "\n",
        "# Load the CSV file into a DataFrame\n",
        "df_codes = pd.read_csv('kodes_codes_codici.csv', sep='\\t')"
      ]
    },
    {
      "cell_type": "code",
      "execution_count": null,
      "metadata": {
        "colab": {
          "base_uri": "https://localhost:8080/"
        },
        "id": "1wMYtXbLomdK",
        "outputId": "653c3eb8-e643-4630-edff-37e16668e058"
      },
      "outputs": [
        {
          "data": {
            "text/plain": [
              "(405, 9)"
            ]
          },
          "execution_count": 5,
          "metadata": {},
          "output_type": "execute_result"
        }
      ],
      "source": [
        "df_codes.shape"
      ]
    },
    {
      "cell_type": "code",
      "execution_count": null,
      "metadata": {
        "colab": {
          "base_uri": "https://localhost:8080/",
          "height": 206
        },
        "id": "sC970yXWomtp",
        "outputId": "6fac24af-d26a-40f2-933b-962b179201b3"
      },
      "outputs": [
        {
          "data": {
            "application/vnd.google.colaboratory.intrinsic+json": {
              "summary": "{\n  \"name\": \"df_codes\",\n  \"rows\": 405,\n  \"fields\": [\n    {\n      \"column\": \"CECODID\",\n      \"properties\": {\n        \"dtype\": \"number\",\n        \"std\": 2843,\n        \"min\": 0,\n        \"max\": 9904,\n        \"num_unique_values\": 265,\n        \"samples\": [\n          7431,\n          3167,\n          3148\n        ],\n        \"semantic_type\": \"\",\n        \"description\": \"\"\n      }\n    },\n    {\n      \"column\": \"CMERKM\",\n      \"properties\": {\n        \"dtype\": \"category\",\n        \"num_unique_values\": 27,\n        \"samples\": [\n          \"WSTWK\",\n          \"GENH2\",\n          \"LTYP\"\n        ],\n        \"semantic_type\": \"\",\n        \"description\": \"\"\n      }\n    },\n    {\n      \"column\": \"CODTXTLD\",\n      \"properties\": {\n        \"dtype\": \"string\",\n        \"num_unique_values\": 262,\n        \"samples\": [\n          \"Amtliche Vermessung, DM.01\",\n          \"Heizkessel nicht kondensierend\",\n          \"Luft\"\n        ],\n        \"semantic_type\": \"\",\n        \"description\": \"\"\n      }\n    },\n    {\n      \"column\": \"CODTXTKD\",\n      \"properties\": {\n        \"dtype\": \"string\",\n        \"num_unique_values\": 256,\n        \"samples\": [\n          \"Gem\\u00e4ss amtlicher Vermessung\",\n          \"nicht nutzbar\",\n          \"37. Stock\"\n        ],\n        \"semantic_type\": \"\",\n        \"description\": \"\"\n      }\n    },\n    {\n      \"column\": \"CODTXTLF\",\n      \"properties\": {\n        \"dtype\": \"string\",\n        \"num_unique_values\": 262,\n        \"samples\": [\n          \"Mensuration officielle, MD01\",\n          \"Chaudi\\u00e8re standard\",\n          \"Air\"\n        ],\n        \"semantic_type\": \"\",\n        \"description\": \"\"\n      }\n    },\n    {\n      \"column\": \"CODTXTKF\",\n      \"properties\": {\n        \"dtype\": \"string\",\n        \"num_unique_values\": 257,\n        \"samples\": [\n          \"Concession\",\n          \"Echangeur de chaleur pour plus. b\\u00e2t.\",\n          \"39e \\u00e9tage\"\n        ],\n        \"semantic_type\": \"\",\n        \"description\": \"\"\n      }\n    },\n    {\n      \"column\": \"CODTXTLI\",\n      \"properties\": {\n        \"dtype\": \"string\",\n        \"num_unique_values\": 262,\n        \"samples\": [\n          \"Misurazione ufficiale, DM.01\",\n          \"Caldaia standard\",\n          \"Aria\"\n        ],\n        \"semantic_type\": \"\",\n        \"description\": \"\"\n      }\n    },\n    {\n      \"column\": \"CODTXTKI\",\n      \"properties\": {\n        \"dtype\": \"string\",\n        \"num_unique_values\": 258,\n        \"samples\": [\n          \"22\\u00b0 piano\",\n          \"1\\u00b0 piano\",\n          \"Abitazione provvisoria\"\n        ],\n        \"semantic_type\": \"\",\n        \"description\": \"\"\n      }\n    },\n    {\n      \"column\": \"CEXPDAT\",\n      \"properties\": {\n        \"dtype\": \"object\",\n        \"num_unique_values\": 1,\n        \"samples\": [\n          \"10.11.2024\"\n        ],\n        \"semantic_type\": \"\",\n        \"description\": \"\"\n      }\n    }\n  ]\n}",
              "type": "dataframe",
              "variable_name": "df_codes"
            },
            "text/html": [
              "\n",
              "  <div id=\"df-33e85b72-0498-4994-95c5-da44a9a5d480\" class=\"colab-df-container\">\n",
              "    <div>\n",
              "<style scoped>\n",
              "    .dataframe tbody tr th:only-of-type {\n",
              "        vertical-align: middle;\n",
              "    }\n",
              "\n",
              "    .dataframe tbody tr th {\n",
              "        vertical-align: top;\n",
              "    }\n",
              "\n",
              "    .dataframe thead th {\n",
              "        text-align: right;\n",
              "    }\n",
              "</style>\n",
              "<table border=\"1\" class=\"dataframe\">\n",
              "  <thead>\n",
              "    <tr style=\"text-align: right;\">\n",
              "      <th></th>\n",
              "      <th>CECODID</th>\n",
              "      <th>CMERKM</th>\n",
              "      <th>CODTXTLD</th>\n",
              "      <th>CODTXTKD</th>\n",
              "      <th>CODTXTLF</th>\n",
              "      <th>CODTXTKF</th>\n",
              "      <th>CODTXTLI</th>\n",
              "      <th>CODTXTKI</th>\n",
              "      <th>CEXPDAT</th>\n",
              "    </tr>\n",
              "  </thead>\n",
              "  <tbody>\n",
              "    <tr>\n",
              "      <th>0</th>\n",
              "      <td>0</td>\n",
              "      <td>DOFFADR</td>\n",
              "      <td>Nein</td>\n",
              "      <td>Nein</td>\n",
              "      <td>Non</td>\n",
              "      <td>Non</td>\n",
              "      <td>No</td>\n",
              "      <td>No</td>\n",
              "      <td>10.11.2024</td>\n",
              "    </tr>\n",
              "    <tr>\n",
              "      <th>1</th>\n",
              "      <td>0</td>\n",
              "      <td>GSCHUTZR</td>\n",
              "      <td>Nein</td>\n",
              "      <td>Nein</td>\n",
              "      <td>Non</td>\n",
              "      <td>Non</td>\n",
              "      <td>No</td>\n",
              "      <td>No</td>\n",
              "      <td>10.11.2024</td>\n",
              "    </tr>\n",
              "    <tr>\n",
              "      <th>2</th>\n",
              "      <td>0</td>\n",
              "      <td>WKCHE</td>\n",
              "      <td>Nein</td>\n",
              "      <td>Nein</td>\n",
              "      <td>Non</td>\n",
              "      <td>Non</td>\n",
              "      <td>No</td>\n",
              "      <td>No</td>\n",
              "      <td>10.11.2024</td>\n",
              "    </tr>\n",
              "    <tr>\n",
              "      <th>3</th>\n",
              "      <td>0</td>\n",
              "      <td>WMEHRG</td>\n",
              "      <td>Nein</td>\n",
              "      <td>Nein</td>\n",
              "      <td>Non</td>\n",
              "      <td>Non</td>\n",
              "      <td>No</td>\n",
              "      <td>No</td>\n",
              "      <td>10.11.2024</td>\n",
              "    </tr>\n",
              "    <tr>\n",
              "      <th>4</th>\n",
              "      <td>1</td>\n",
              "      <td>DOFFADR</td>\n",
              "      <td>Ja</td>\n",
              "      <td>Ja</td>\n",
              "      <td>Oui</td>\n",
              "      <td>Oui</td>\n",
              "      <td>Sì</td>\n",
              "      <td>Sì</td>\n",
              "      <td>10.11.2024</td>\n",
              "    </tr>\n",
              "  </tbody>\n",
              "</table>\n",
              "</div>\n",
              "    <div class=\"colab-df-buttons\">\n",
              "\n",
              "  <div class=\"colab-df-container\">\n",
              "    <button class=\"colab-df-convert\" onclick=\"convertToInteractive('df-33e85b72-0498-4994-95c5-da44a9a5d480')\"\n",
              "            title=\"Convert this dataframe to an interactive table.\"\n",
              "            style=\"display:none;\">\n",
              "\n",
              "  <svg xmlns=\"http://www.w3.org/2000/svg\" height=\"24px\" viewBox=\"0 -960 960 960\">\n",
              "    <path d=\"M120-120v-720h720v720H120Zm60-500h600v-160H180v160Zm220 220h160v-160H400v160Zm0 220h160v-160H400v160ZM180-400h160v-160H180v160Zm440 0h160v-160H620v160ZM180-180h160v-160H180v160Zm440 0h160v-160H620v160Z\"/>\n",
              "  </svg>\n",
              "    </button>\n",
              "\n",
              "  <style>\n",
              "    .colab-df-container {\n",
              "      display:flex;\n",
              "      gap: 12px;\n",
              "    }\n",
              "\n",
              "    .colab-df-convert {\n",
              "      background-color: #E8F0FE;\n",
              "      border: none;\n",
              "      border-radius: 50%;\n",
              "      cursor: pointer;\n",
              "      display: none;\n",
              "      fill: #1967D2;\n",
              "      height: 32px;\n",
              "      padding: 0 0 0 0;\n",
              "      width: 32px;\n",
              "    }\n",
              "\n",
              "    .colab-df-convert:hover {\n",
              "      background-color: #E2EBFA;\n",
              "      box-shadow: 0px 1px 2px rgba(60, 64, 67, 0.3), 0px 1px 3px 1px rgba(60, 64, 67, 0.15);\n",
              "      fill: #174EA6;\n",
              "    }\n",
              "\n",
              "    .colab-df-buttons div {\n",
              "      margin-bottom: 4px;\n",
              "    }\n",
              "\n",
              "    [theme=dark] .colab-df-convert {\n",
              "      background-color: #3B4455;\n",
              "      fill: #D2E3FC;\n",
              "    }\n",
              "\n",
              "    [theme=dark] .colab-df-convert:hover {\n",
              "      background-color: #434B5C;\n",
              "      box-shadow: 0px 1px 3px 1px rgba(0, 0, 0, 0.15);\n",
              "      filter: drop-shadow(0px 1px 2px rgba(0, 0, 0, 0.3));\n",
              "      fill: #FFFFFF;\n",
              "    }\n",
              "  </style>\n",
              "\n",
              "    <script>\n",
              "      const buttonEl =\n",
              "        document.querySelector('#df-33e85b72-0498-4994-95c5-da44a9a5d480 button.colab-df-convert');\n",
              "      buttonEl.style.display =\n",
              "        google.colab.kernel.accessAllowed ? 'block' : 'none';\n",
              "\n",
              "      async function convertToInteractive(key) {\n",
              "        const element = document.querySelector('#df-33e85b72-0498-4994-95c5-da44a9a5d480');\n",
              "        const dataTable =\n",
              "          await google.colab.kernel.invokeFunction('convertToInteractive',\n",
              "                                                    [key], {});\n",
              "        if (!dataTable) return;\n",
              "\n",
              "        const docLinkHtml = 'Like what you see? Visit the ' +\n",
              "          '<a target=\"_blank\" href=https://colab.research.google.com/notebooks/data_table.ipynb>data table notebook</a>'\n",
              "          + ' to learn more about interactive tables.';\n",
              "        element.innerHTML = '';\n",
              "        dataTable['output_type'] = 'display_data';\n",
              "        await google.colab.output.renderOutput(dataTable, element);\n",
              "        const docLink = document.createElement('div');\n",
              "        docLink.innerHTML = docLinkHtml;\n",
              "        element.appendChild(docLink);\n",
              "      }\n",
              "    </script>\n",
              "  </div>\n",
              "\n",
              "\n",
              "<div id=\"df-f82b9eae-ebb3-45cc-a215-6180c4e9abbe\">\n",
              "  <button class=\"colab-df-quickchart\" onclick=\"quickchart('df-f82b9eae-ebb3-45cc-a215-6180c4e9abbe')\"\n",
              "            title=\"Suggest charts\"\n",
              "            style=\"display:none;\">\n",
              "\n",
              "<svg xmlns=\"http://www.w3.org/2000/svg\" height=\"24px\"viewBox=\"0 0 24 24\"\n",
              "     width=\"24px\">\n",
              "    <g>\n",
              "        <path d=\"M19 3H5c-1.1 0-2 .9-2 2v14c0 1.1.9 2 2 2h14c1.1 0 2-.9 2-2V5c0-1.1-.9-2-2-2zM9 17H7v-7h2v7zm4 0h-2V7h2v10zm4 0h-2v-4h2v4z\"/>\n",
              "    </g>\n",
              "</svg>\n",
              "  </button>\n",
              "\n",
              "<style>\n",
              "  .colab-df-quickchart {\n",
              "      --bg-color: #E8F0FE;\n",
              "      --fill-color: #1967D2;\n",
              "      --hover-bg-color: #E2EBFA;\n",
              "      --hover-fill-color: #174EA6;\n",
              "      --disabled-fill-color: #AAA;\n",
              "      --disabled-bg-color: #DDD;\n",
              "  }\n",
              "\n",
              "  [theme=dark] .colab-df-quickchart {\n",
              "      --bg-color: #3B4455;\n",
              "      --fill-color: #D2E3FC;\n",
              "      --hover-bg-color: #434B5C;\n",
              "      --hover-fill-color: #FFFFFF;\n",
              "      --disabled-bg-color: #3B4455;\n",
              "      --disabled-fill-color: #666;\n",
              "  }\n",
              "\n",
              "  .colab-df-quickchart {\n",
              "    background-color: var(--bg-color);\n",
              "    border: none;\n",
              "    border-radius: 50%;\n",
              "    cursor: pointer;\n",
              "    display: none;\n",
              "    fill: var(--fill-color);\n",
              "    height: 32px;\n",
              "    padding: 0;\n",
              "    width: 32px;\n",
              "  }\n",
              "\n",
              "  .colab-df-quickchart:hover {\n",
              "    background-color: var(--hover-bg-color);\n",
              "    box-shadow: 0 1px 2px rgba(60, 64, 67, 0.3), 0 1px 3px 1px rgba(60, 64, 67, 0.15);\n",
              "    fill: var(--button-hover-fill-color);\n",
              "  }\n",
              "\n",
              "  .colab-df-quickchart-complete:disabled,\n",
              "  .colab-df-quickchart-complete:disabled:hover {\n",
              "    background-color: var(--disabled-bg-color);\n",
              "    fill: var(--disabled-fill-color);\n",
              "    box-shadow: none;\n",
              "  }\n",
              "\n",
              "  .colab-df-spinner {\n",
              "    border: 2px solid var(--fill-color);\n",
              "    border-color: transparent;\n",
              "    border-bottom-color: var(--fill-color);\n",
              "    animation:\n",
              "      spin 1s steps(1) infinite;\n",
              "  }\n",
              "\n",
              "  @keyframes spin {\n",
              "    0% {\n",
              "      border-color: transparent;\n",
              "      border-bottom-color: var(--fill-color);\n",
              "      border-left-color: var(--fill-color);\n",
              "    }\n",
              "    20% {\n",
              "      border-color: transparent;\n",
              "      border-left-color: var(--fill-color);\n",
              "      border-top-color: var(--fill-color);\n",
              "    }\n",
              "    30% {\n",
              "      border-color: transparent;\n",
              "      border-left-color: var(--fill-color);\n",
              "      border-top-color: var(--fill-color);\n",
              "      border-right-color: var(--fill-color);\n",
              "    }\n",
              "    40% {\n",
              "      border-color: transparent;\n",
              "      border-right-color: var(--fill-color);\n",
              "      border-top-color: var(--fill-color);\n",
              "    }\n",
              "    60% {\n",
              "      border-color: transparent;\n",
              "      border-right-color: var(--fill-color);\n",
              "    }\n",
              "    80% {\n",
              "      border-color: transparent;\n",
              "      border-right-color: var(--fill-color);\n",
              "      border-bottom-color: var(--fill-color);\n",
              "    }\n",
              "    90% {\n",
              "      border-color: transparent;\n",
              "      border-bottom-color: var(--fill-color);\n",
              "    }\n",
              "  }\n",
              "</style>\n",
              "\n",
              "  <script>\n",
              "    async function quickchart(key) {\n",
              "      const quickchartButtonEl =\n",
              "        document.querySelector('#' + key + ' button');\n",
              "      quickchartButtonEl.disabled = true;  // To prevent multiple clicks.\n",
              "      quickchartButtonEl.classList.add('colab-df-spinner');\n",
              "      try {\n",
              "        const charts = await google.colab.kernel.invokeFunction(\n",
              "            'suggestCharts', [key], {});\n",
              "      } catch (error) {\n",
              "        console.error('Error during call to suggestCharts:', error);\n",
              "      }\n",
              "      quickchartButtonEl.classList.remove('colab-df-spinner');\n",
              "      quickchartButtonEl.classList.add('colab-df-quickchart-complete');\n",
              "    }\n",
              "    (() => {\n",
              "      let quickchartButtonEl =\n",
              "        document.querySelector('#df-f82b9eae-ebb3-45cc-a215-6180c4e9abbe button');\n",
              "      quickchartButtonEl.style.display =\n",
              "        google.colab.kernel.accessAllowed ? 'block' : 'none';\n",
              "    })();\n",
              "  </script>\n",
              "</div>\n",
              "\n",
              "    </div>\n",
              "  </div>\n"
            ],
            "text/plain": [
              "   CECODID    CMERKM CODTXTLD CODTXTKD CODTXTLF CODTXTKF CODTXTLI CODTXTKI  \\\n",
              "0        0   DOFFADR     Nein     Nein      Non      Non       No       No   \n",
              "1        0  GSCHUTZR     Nein     Nein      Non      Non       No       No   \n",
              "2        0     WKCHE     Nein     Nein      Non      Non       No       No   \n",
              "3        0    WMEHRG     Nein     Nein      Non      Non       No       No   \n",
              "4        1   DOFFADR       Ja       Ja      Oui      Oui       Sì       Sì   \n",
              "\n",
              "      CEXPDAT  \n",
              "0  10.11.2024  \n",
              "1  10.11.2024  \n",
              "2  10.11.2024  \n",
              "3  10.11.2024  \n",
              "4  10.11.2024  "
            ]
          },
          "execution_count": 6,
          "metadata": {},
          "output_type": "execute_result"
        }
      ],
      "source": [
        "# Display the first few rows to verify\n",
        "df_codes.head()"
      ]
    },
    {
      "cell_type": "markdown",
      "metadata": {
        "id": "G0p6kuPPpA9s"
      },
      "source": [
        "# Processing"
      ]
    },
    {
      "cell_type": "markdown",
      "metadata": {
        "id": "9t70_yV-_xNK"
      },
      "source": [
        "1. As a first step, I'll drop the empty columns and culumns with less values (under revision and checking the importance of these columns)."
      ]
    },
    {
      "cell_type": "code",
      "execution_count": 5,
      "metadata": {
        "id": "8cg1TAzBpCtd"
      },
      "outputs": [],
      "source": [
        "# Drop columns that are entirely empty\n",
        "df_batiment = df_batiment.dropna(axis=1, how='all')"
      ]
    },
    {
      "cell_type": "code",
      "execution_count": 6,
      "metadata": {
        "colab": {
          "base_uri": "https://localhost:8080/"
        },
        "id": "cZrQ9ox0rZhV",
        "outputId": "b70c39c1-305a-4f07-9074-044e6e9985ef"
      },
      "outputs": [
        {
          "output_type": "execute_result",
          "data": {
            "text/plain": [
              "(245987, 42)"
            ]
          },
          "metadata": {},
          "execution_count": 6
        }
      ],
      "source": [
        "df_batiment.shape"
      ]
    },
    {
      "cell_type": "markdown",
      "metadata": {
        "id": "ct1_yuxBA5u5"
      },
      "source": [
        "2. Now I want to delete the buildings that were demolished."
      ]
    },
    {
      "cell_type": "code",
      "execution_count": 7,
      "metadata": {
        "id": "5jGegngCBqs0"
      },
      "outputs": [],
      "source": [
        "df_batiment = df_batiment[df_batiment[\"GSTAT\"] != 1007]"
      ]
    },
    {
      "cell_type": "code",
      "execution_count": 9,
      "metadata": {
        "id": "PDmZCkvOrq8c"
      },
      "outputs": [],
      "source": [
        "df_batiment = df_batiment[df_batiment['GABBJ'].isna()]"
      ]
    },
    {
      "cell_type": "code",
      "execution_count": 10,
      "metadata": {
        "colab": {
          "base_uri": "https://localhost:8080/"
        },
        "id": "Ff50fIVTrvAF",
        "outputId": "8558ea7c-fee0-4e65-f966-54cb6f6d3a8d"
      },
      "outputs": [
        {
          "output_type": "execute_result",
          "data": {
            "text/plain": [
              "(237919, 42)"
            ]
          },
          "metadata": {},
          "execution_count": 10
        }
      ],
      "source": [
        "df_batiment.shape"
      ]
    },
    {
      "cell_type": "markdown",
      "metadata": {
        "id": "qBPRY_g02j4z"
      },
      "source": [
        "3. Let's remove columns that don't contain enough data."
      ]
    },
    {
      "cell_type": "code",
      "execution_count": null,
      "metadata": {
        "colab": {
          "base_uri": "https://localhost:8080/",
          "height": 1000
        },
        "id": "WZi2ARn11ZUP",
        "outputId": "1952e3d9-67ef-4668-9ff7-f88227ff0106"
      },
      "outputs": [
        {
          "data": {
            "text/html": [
              "<div>\n",
              "<style scoped>\n",
              "    .dataframe tbody tr th:only-of-type {\n",
              "        vertical-align: middle;\n",
              "    }\n",
              "\n",
              "    .dataframe tbody tr th {\n",
              "        vertical-align: top;\n",
              "    }\n",
              "\n",
              "    .dataframe thead th {\n",
              "        text-align: right;\n",
              "    }\n",
              "</style>\n",
              "<table border=\"1\" class=\"dataframe\">\n",
              "  <thead>\n",
              "    <tr style=\"text-align: right;\">\n",
              "      <th></th>\n",
              "      <th>0</th>\n",
              "    </tr>\n",
              "  </thead>\n",
              "  <tbody>\n",
              "    <tr>\n",
              "      <th>EGID</th>\n",
              "      <td>245987</td>\n",
              "    </tr>\n",
              "    <tr>\n",
              "      <th>GDEKT</th>\n",
              "      <td>245987</td>\n",
              "    </tr>\n",
              "    <tr>\n",
              "      <th>GGDENR</th>\n",
              "      <td>245987</td>\n",
              "    </tr>\n",
              "    <tr>\n",
              "      <th>GGDENAME</th>\n",
              "      <td>245987</td>\n",
              "    </tr>\n",
              "    <tr>\n",
              "      <th>EGRID</th>\n",
              "      <td>221097</td>\n",
              "    </tr>\n",
              "    <tr>\n",
              "      <th>LGBKR</th>\n",
              "      <td>245892</td>\n",
              "    </tr>\n",
              "    <tr>\n",
              "      <th>LPARZ</th>\n",
              "      <td>245892</td>\n",
              "    </tr>\n",
              "    <tr>\n",
              "      <th>GEBNR</th>\n",
              "      <td>245850</td>\n",
              "    </tr>\n",
              "    <tr>\n",
              "      <th>GBEZ</th>\n",
              "      <td>23449</td>\n",
              "    </tr>\n",
              "    <tr>\n",
              "      <th>GKODE</th>\n",
              "      <td>245987</td>\n",
              "    </tr>\n",
              "    <tr>\n",
              "      <th>GKODN</th>\n",
              "      <td>245987</td>\n",
              "    </tr>\n",
              "    <tr>\n",
              "      <th>GKSCE</th>\n",
              "      <td>245987</td>\n",
              "    </tr>\n",
              "    <tr>\n",
              "      <th>GSTAT</th>\n",
              "      <td>245987</td>\n",
              "    </tr>\n",
              "    <tr>\n",
              "      <th>GKAT</th>\n",
              "      <td>245970</td>\n",
              "    </tr>\n",
              "    <tr>\n",
              "      <th>GKLAS</th>\n",
              "      <td>243487</td>\n",
              "    </tr>\n",
              "    <tr>\n",
              "      <th>GBAUJ</th>\n",
              "      <td>212258</td>\n",
              "    </tr>\n",
              "    <tr>\n",
              "      <th>GBAUM</th>\n",
              "      <td>21387</td>\n",
              "    </tr>\n",
              "    <tr>\n",
              "      <th>GBAUP</th>\n",
              "      <td>228531</td>\n",
              "    </tr>\n",
              "    <tr>\n",
              "      <th>GABBJ</th>\n",
              "      <td>8049</td>\n",
              "    </tr>\n",
              "    <tr>\n",
              "      <th>GAREA</th>\n",
              "      <td>244887</td>\n",
              "    </tr>\n",
              "    <tr>\n",
              "      <th>GASTW</th>\n",
              "      <td>148456</td>\n",
              "    </tr>\n",
              "    <tr>\n",
              "      <th>GANZWHG</th>\n",
              "      <td>143158</td>\n",
              "    </tr>\n",
              "    <tr>\n",
              "      <th>GAZZI</th>\n",
              "      <td>5219</td>\n",
              "    </tr>\n",
              "    <tr>\n",
              "      <th>GSCHUTZR</th>\n",
              "      <td>76115</td>\n",
              "    </tr>\n",
              "    <tr>\n",
              "      <th>GEBF</th>\n",
              "      <td>26598</td>\n",
              "    </tr>\n",
              "    <tr>\n",
              "      <th>GWAERZH1</th>\n",
              "      <td>156014</td>\n",
              "    </tr>\n",
              "    <tr>\n",
              "      <th>GENH1</th>\n",
              "      <td>158021</td>\n",
              "    </tr>\n",
              "    <tr>\n",
              "      <th>GWAERSCEH1</th>\n",
              "      <td>156007</td>\n",
              "    </tr>\n",
              "    <tr>\n",
              "      <th>GWAERDATH1</th>\n",
              "      <td>156007</td>\n",
              "    </tr>\n",
              "    <tr>\n",
              "      <th>GWAERZH2</th>\n",
              "      <td>38979</td>\n",
              "    </tr>\n",
              "    <tr>\n",
              "      <th>GENH2</th>\n",
              "      <td>38979</td>\n",
              "    </tr>\n",
              "    <tr>\n",
              "      <th>GWAERSCEH2</th>\n",
              "      <td>38979</td>\n",
              "    </tr>\n",
              "    <tr>\n",
              "      <th>GWAERDATH2</th>\n",
              "      <td>38979</td>\n",
              "    </tr>\n",
              "    <tr>\n",
              "      <th>GWAERZW1</th>\n",
              "      <td>244648</td>\n",
              "    </tr>\n",
              "    <tr>\n",
              "      <th>GENW1</th>\n",
              "      <td>244648</td>\n",
              "    </tr>\n",
              "    <tr>\n",
              "      <th>GWAERSCEW1</th>\n",
              "      <td>244648</td>\n",
              "    </tr>\n",
              "    <tr>\n",
              "      <th>GWAERDATW1</th>\n",
              "      <td>244648</td>\n",
              "    </tr>\n",
              "    <tr>\n",
              "      <th>GWAERZW2</th>\n",
              "      <td>187882</td>\n",
              "    </tr>\n",
              "    <tr>\n",
              "      <th>GENW2</th>\n",
              "      <td>187882</td>\n",
              "    </tr>\n",
              "    <tr>\n",
              "      <th>GWAERSCEW2</th>\n",
              "      <td>187882</td>\n",
              "    </tr>\n",
              "    <tr>\n",
              "      <th>GWAERDATW2</th>\n",
              "      <td>187882</td>\n",
              "    </tr>\n",
              "    <tr>\n",
              "      <th>GEXPDAT</th>\n",
              "      <td>245987</td>\n",
              "    </tr>\n",
              "  </tbody>\n",
              "</table>\n",
              "</div><br><label><b>dtype:</b> int64</label>"
            ],
            "text/plain": [
              "EGID          245987\n",
              "GDEKT         245987\n",
              "GGDENR        245987\n",
              "GGDENAME      245987\n",
              "EGRID         221097\n",
              "LGBKR         245892\n",
              "LPARZ         245892\n",
              "GEBNR         245850\n",
              "GBEZ           23449\n",
              "GKODE         245987\n",
              "GKODN         245987\n",
              "GKSCE         245987\n",
              "GSTAT         245987\n",
              "GKAT          245970\n",
              "GKLAS         243487\n",
              "GBAUJ         212258\n",
              "GBAUM          21387\n",
              "GBAUP         228531\n",
              "GABBJ           8049\n",
              "GAREA         244887\n",
              "GASTW         148456\n",
              "GANZWHG       143158\n",
              "GAZZI           5219\n",
              "GSCHUTZR       76115\n",
              "GEBF           26598\n",
              "GWAERZH1      156014\n",
              "GENH1         158021\n",
              "GWAERSCEH1    156007\n",
              "GWAERDATH1    156007\n",
              "GWAERZH2       38979\n",
              "GENH2          38979\n",
              "GWAERSCEH2     38979\n",
              "GWAERDATH2     38979\n",
              "GWAERZW1      244648\n",
              "GENW1         244648\n",
              "GWAERSCEW1    244648\n",
              "GWAERDATW1    244648\n",
              "GWAERZW2      187882\n",
              "GENW2         187882\n",
              "GWAERSCEW2    187882\n",
              "GWAERDATW2    187882\n",
              "GEXPDAT       245987\n",
              "dtype: int64"
            ]
          },
          "execution_count": 10,
          "metadata": {},
          "output_type": "execute_result"
        }
      ],
      "source": [
        "df_batiment.count()"
      ]
    },
    {
      "cell_type": "markdown",
      "metadata": {
        "id": "kE781niH29do"
      },
      "source": [
        "We put threshold at 9% and then delete these columns."
      ]
    },
    {
      "cell_type": "code",
      "execution_count": 12,
      "metadata": {
        "colab": {
          "base_uri": "https://localhost:8080/"
        },
        "id": "XPctkeEU2tDN",
        "outputId": "dca43772-112a-41c7-c911-2cb416465ed9"
      },
      "outputs": [
        {
          "output_type": "stream",
          "name": "stdout",
          "text": [
            "Columns with less than 9% values:\n",
            "GBAUM\n",
            "GABBJ\n",
            "GAZZI\n"
          ]
        }
      ],
      "source": [
        "threshold = 0.09  # 9%\n",
        "\n",
        "# Calculate the percentage of non-null values for each column\n",
        "non_null_percent = df_batiment.count() / len(df_batiment)\n",
        "\n",
        "# Identify columns that have less than 8% non-null values\n",
        "low_value_columns = non_null_percent[non_null_percent < threshold].index.tolist()\n",
        "\n",
        "# Print the names of these columns\n",
        "print(\"Columns with less than 9% values:\")\n",
        "for col in low_value_columns:\n",
        "    print(col)"
      ]
    },
    {
      "cell_type": "code",
      "execution_count": 13,
      "metadata": {
        "id": "25hFgV_s2-aY"
      },
      "outputs": [],
      "source": [
        "# Drop these columns\n",
        "df_batiment = df_batiment.drop(columns=low_value_columns)"
      ]
    },
    {
      "cell_type": "markdown",
      "metadata": {
        "id": "u8yuzYvw37iD"
      },
      "source": [
        "4. Let's remove some columns that unimportant for us.\n",
        "\n",
        "- For example, GEXPDAT - it's the date of this dataset by ourselves."
      ]
    },
    {
      "cell_type": "code",
      "execution_count": 14,
      "metadata": {
        "id": "iyjbk0W74UE5"
      },
      "outputs": [],
      "source": [
        "# List the columns you want to remove\n",
        "columns_to_remove = [\"GEXPDAT\"]\n",
        "\n",
        "# Check which columns actually exist in df_batiment before dropping\n",
        "columns_to_remove = [col for col in columns_to_remove if col in df_batiment.columns]\n",
        "\n",
        "# Drop the specified columns\n",
        "df_batiment = df_batiment.drop(columns=columns_to_remove)"
      ]
    },
    {
      "cell_type": "code",
      "source": [
        "df_batiment.shape"
      ],
      "metadata": {
        "colab": {
          "base_uri": "https://localhost:8080/"
        },
        "id": "7RzJ2orv-TU7",
        "outputId": "e928998a-e539-4c74-eb4a-8eb16417af27"
      },
      "execution_count": 15,
      "outputs": [
        {
          "output_type": "execute_result",
          "data": {
            "text/plain": [
              "(237919, 38)"
            ]
          },
          "metadata": {},
          "execution_count": 15
        }
      ]
    },
    {
      "cell_type": "markdown",
      "metadata": {
        "id": "mBBYW7-06YGK"
      },
      "source": [
        "5. Download an updated version of initial dataset."
      ]
    },
    {
      "cell_type": "code",
      "execution_count": 16,
      "metadata": {
        "colab": {
          "base_uri": "https://localhost:8080/",
          "height": 17
        },
        "id": "bkyu1w896fn1",
        "outputId": "a717fd6d-e676-4c74-a534-a3c53c52f2df"
      },
      "outputs": [
        {
          "output_type": "display_data",
          "data": {
            "text/plain": [
              "<IPython.core.display.Javascript object>"
            ],
            "application/javascript": [
              "\n",
              "    async function download(id, filename, size) {\n",
              "      if (!google.colab.kernel.accessAllowed) {\n",
              "        return;\n",
              "      }\n",
              "      const div = document.createElement('div');\n",
              "      const label = document.createElement('label');\n",
              "      label.textContent = `Downloading \"${filename}\": `;\n",
              "      div.appendChild(label);\n",
              "      const progress = document.createElement('progress');\n",
              "      progress.max = size;\n",
              "      div.appendChild(progress);\n",
              "      document.body.appendChild(div);\n",
              "\n",
              "      const buffers = [];\n",
              "      let downloaded = 0;\n",
              "\n",
              "      const channel = await google.colab.kernel.comms.open(id);\n",
              "      // Send a message to notify the kernel that we're ready.\n",
              "      channel.send({})\n",
              "\n",
              "      for await (const message of channel.messages) {\n",
              "        // Send a message to notify the kernel that we're ready.\n",
              "        channel.send({})\n",
              "        if (message.buffers) {\n",
              "          for (const buffer of message.buffers) {\n",
              "            buffers.push(buffer);\n",
              "            downloaded += buffer.byteLength;\n",
              "            progress.value = downloaded;\n",
              "          }\n",
              "        }\n",
              "      }\n",
              "      const blob = new Blob(buffers, {type: 'application/binary'});\n",
              "      const a = document.createElement('a');\n",
              "      a.href = window.URL.createObjectURL(blob);\n",
              "      a.download = filename;\n",
              "      div.appendChild(a);\n",
              "      a.click();\n",
              "      div.remove();\n",
              "    }\n",
              "  "
            ]
          },
          "metadata": {}
        },
        {
          "output_type": "display_data",
          "data": {
            "text/plain": [
              "<IPython.core.display.Javascript object>"
            ],
            "application/javascript": [
              "download(\"download_be4936cb-e886-494b-84eb-eb85e825e3a9\", \"df_batiment.xlsx\", 39256842)"
            ]
          },
          "metadata": {}
        }
      ],
      "source": [
        "# Save the DataFrame as an Excel file\n",
        "df_batiment.to_excel('df_batiment.xlsx', index=False)\n",
        "\n",
        "# Trigger the file download, you can choose the location on your local machine\n",
        "files.download('df_batiment.xlsx')"
      ]
    },
    {
      "cell_type": "markdown",
      "metadata": {
        "id": "JBW0ryq45KnB"
      },
      "source": [
        "# Descriptive statistics - Overall"
      ]
    },
    {
      "cell_type": "markdown",
      "metadata": {
        "id": "GTQxQ7679Fvr"
      },
      "source": [
        "0. Number of the buildings in the whole 'region'."
      ]
    },
    {
      "cell_type": "code",
      "execution_count": 17,
      "metadata": {
        "colab": {
          "base_uri": "https://localhost:8080/"
        },
        "id": "py-s-JgE9E4w",
        "outputId": "cd154a60-fefa-4c99-d316-0dac57f92fa0"
      },
      "outputs": [
        {
          "output_type": "execute_result",
          "data": {
            "text/plain": [
              "237919"
            ]
          },
          "metadata": {},
          "execution_count": 17
        }
      ],
      "source": [
        "len(df_batiment['EGID'])"
      ]
    },
    {
      "cell_type": "markdown",
      "metadata": {
        "id": "G1l9KZBPFslJ"
      },
      "source": [
        "1. Let's check only unique number of buildings: EGRID - \"Identificateur fédéral d'immeuble (bien-fonds)\""
      ]
    },
    {
      "cell_type": "code",
      "execution_count": 18,
      "metadata": {
        "colab": {
          "base_uri": "https://localhost:8080/"
        },
        "id": "PIKF_IQQsiLs",
        "outputId": "22ec6a68-9290-4de8-e085-52961d52111c"
      },
      "outputs": [
        {
          "output_type": "execute_result",
          "data": {
            "text/plain": [
              "132944"
            ]
          },
          "metadata": {},
          "execution_count": 18
        }
      ],
      "source": [
        "len(df_batiment['EGRID'].unique())"
      ]
    },
    {
      "cell_type": "code",
      "execution_count": 19,
      "metadata": {
        "colab": {
          "base_uri": "https://localhost:8080/"
        },
        "id": "zWJH6H2nt6fX",
        "outputId": "84cc0d8a-fe9d-4ff1-8eb3-76f86ff70b3d"
      },
      "outputs": [
        {
          "output_type": "stream",
          "name": "stdout",
          "text": [
            "Most frequent EGRID: CH238371458482\n",
            "Frequency: 170\n"
          ]
        }
      ],
      "source": [
        "# Calculate the most frequent EGRID value and its frequency\n",
        "most_frequent_egrid = df_batiment['EGRID'].mode()[0]  # Mode gives the most common value\n",
        "frequency = df_batiment['EGRID'].value_counts()[most_frequent_egrid]\n",
        "\n",
        "print(f\"Most frequent EGRID: {most_frequent_egrid}\")\n",
        "print(f\"Frequency: {frequency}\")"
      ]
    },
    {
      "cell_type": "code",
      "execution_count": 20,
      "metadata": {
        "colab": {
          "base_uri": "https://localhost:8080/"
        },
        "id": "2o8cdRQ2uWVW",
        "outputId": "3642f71a-1ca6-44a9-8982-fdc6d162da9e"
      },
      "outputs": [
        {
          "output_type": "stream",
          "name": "stdout",
          "text": [
            "Top 10 most frequent EGRID values:\n",
            "EGRID\n",
            "CH238371458482    170\n",
            "CH851183704561     89\n",
            "CH798375424520     78\n",
            "CH708145048382     74\n",
            "CH174597828386     73\n",
            "CH481583459862     66\n",
            "CH938398458783     64\n",
            "CH480583459445     64\n",
            "CH114541837910     61\n",
            "CH614527837666     60\n",
            "Name: count, dtype: int64\n"
          ]
        }
      ],
      "source": [
        "# Print the top 10 most frequent EGRID values\n",
        "top_frequent_values = df_batiment['EGRID'].value_counts().head(10)\n",
        "print(\"Top 10 most frequent EGRID values:\")\n",
        "print(top_frequent_values)"
      ]
    },
    {
      "cell_type": "markdown",
      "metadata": {
        "id": "cxne1-TQ8jFv"
      },
      "source": [
        "2. Number of communes"
      ]
    },
    {
      "cell_type": "code",
      "execution_count": 21,
      "metadata": {
        "colab": {
          "base_uri": "https://localhost:8080/"
        },
        "id": "GWpzoZk1u-Ce",
        "outputId": "28aa55fb-4abb-4dfe-d5ce-b5678bdc67bd"
      },
      "outputs": [
        {
          "output_type": "execute_result",
          "data": {
            "text/plain": [
              "300"
            ]
          },
          "metadata": {},
          "execution_count": 21
        }
      ],
      "source": [
        "len(df_batiment['GGDENR'].unique())"
      ]
    },
    {
      "cell_type": "markdown",
      "metadata": {
        "id": "6SF3EElt90Sy"
      },
      "source": [
        "3. Dataset with unique values *(not for all columns)* + download it."
      ]
    },
    {
      "cell_type": "code",
      "execution_count": null,
      "metadata": {
        "colab": {
          "base_uri": "https://localhost:8080/",
          "height": 17
        },
        "id": "W4Ch4OJHu-Fv",
        "outputId": "9bd52ef7-67f0-4bdd-a454-436fd10ba614"
      },
      "outputs": [
        {
          "data": {
            "application/javascript": [
              "\n",
              "    async function download(id, filename, size) {\n",
              "      if (!google.colab.kernel.accessAllowed) {\n",
              "        return;\n",
              "      }\n",
              "      const div = document.createElement('div');\n",
              "      const label = document.createElement('label');\n",
              "      label.textContent = `Downloading \"${filename}\": `;\n",
              "      div.appendChild(label);\n",
              "      const progress = document.createElement('progress');\n",
              "      progress.max = size;\n",
              "      div.appendChild(progress);\n",
              "      document.body.appendChild(div);\n",
              "\n",
              "      const buffers = [];\n",
              "      let downloaded = 0;\n",
              "\n",
              "      const channel = await google.colab.kernel.comms.open(id);\n",
              "      // Send a message to notify the kernel that we're ready.\n",
              "      channel.send({})\n",
              "\n",
              "      for await (const message of channel.messages) {\n",
              "        // Send a message to notify the kernel that we're ready.\n",
              "        channel.send({})\n",
              "        if (message.buffers) {\n",
              "          for (const buffer of message.buffers) {\n",
              "            buffers.push(buffer);\n",
              "            downloaded += buffer.byteLength;\n",
              "            progress.value = downloaded;\n",
              "          }\n",
              "        }\n",
              "      }\n",
              "      const blob = new Blob(buffers, {type: 'application/binary'});\n",
              "      const a = document.createElement('a');\n",
              "      a.href = window.URL.createObjectURL(blob);\n",
              "      a.download = filename;\n",
              "      div.appendChild(a);\n",
              "      a.click();\n",
              "      div.remove();\n",
              "    }\n",
              "  "
            ],
            "text/plain": [
              "<IPython.core.display.Javascript object>"
            ]
          },
          "metadata": {},
          "output_type": "display_data"
        },
        {
          "data": {
            "application/javascript": [
              "download(\"download_d6101d5a-7f77-4312-9a05-41dad2d04a19\", \"unique_values_dataset.xlsx\", 829917)"
            ],
            "text/plain": [
              "<IPython.core.display.Javascript object>"
            ]
          },
          "metadata": {},
          "output_type": "display_data"
        }
      ],
      "source": [
        "# List of columns to exclude\n",
        "columns_to_exclude = [\n",
        "    \"EGID\", \"EGRID\",\"GKODE\", \"GKODN\", \"GKSCE\",\n",
        "    \"GAREA\", \"GVOL\", \"GVOLNORM\", \"GVOLSCE\", \"GEBNR\", \"GSTAT\",\n",
        "    \"LPARZ\", \"GEBF\",\n",
        "    \"GWAERDATH1\", \"GWAERDATH2\",\n",
        "    \"GWAERDATW1\", \"GWAERDATW2\",\n",
        "    \"GEXPDAT\"\n",
        "]\n",
        "\n",
        "# Ensure the columns to exclude are valid for your dataset\n",
        "columns_to_exclude = [col for col in columns_to_exclude if col in df_batiment.columns]\n",
        "\n",
        "# 1. Calculate unique values count for each column\n",
        "unique_counts = df_batiment.nunique()\n",
        "\n",
        "# 2. Create a dataset with unique values (excluding specific columns)\n",
        "columns_to_include = [col for col in df_batiment.columns if col not in columns_to_exclude]\n",
        "unique_values_dataset = {col: df_batiment[col].dropna().unique() for col in columns_to_include}\n",
        "\n",
        "# Convert to DataFrame\n",
        "unique_values_df = pd.DataFrame(dict([(k, pd.Series(v)) for k, v in unique_values_dataset.items()]))\n",
        "\n",
        "# Save the DataFrame as an Excel file\n",
        "unique_values_df.to_excel('unique_values_dataset.xlsx', index=False)\n",
        "\n",
        "# Trigger the file download, you can choose the location on your local machine\n",
        "files.download('unique_values_dataset.xlsx')\n",
        "\n",
        "# Print results\n",
        "#print(\"Unique counts for each column:\\n\", unique_counts)\n",
        "#print(\"\\nUnique values dataset:\\n\", unique_values_df)"
      ]
    },
    {
      "cell_type": "markdown",
      "metadata": {
        "id": "IxcJAkAj_cUq"
      },
      "source": [
        "4. Status of the buildings ('Statut du bâtiment', GSTAT)"
      ]
    },
    {
      "cell_type": "code",
      "execution_count": 22,
      "metadata": {
        "colab": {
          "base_uri": "https://localhost:8080/"
        },
        "id": "b9whml6lFb9J",
        "outputId": "ed43e7da-efcf-4191-93d9-42211b4fa935"
      },
      "outputs": [
        {
          "output_type": "execute_result",
          "data": {
            "text/plain": [
              "3"
            ]
          },
          "metadata": {},
          "execution_count": 22
        }
      ],
      "source": [
        "len(df_batiment['GSTAT'].unique())"
      ]
    },
    {
      "cell_type": "code",
      "execution_count": 23,
      "metadata": {
        "colab": {
          "base_uri": "https://localhost:8080/",
          "height": 607
        },
        "id": "nA8QEbArFcAT",
        "outputId": "474f6ece-8836-4d69-b5d1-8906b8bf7fd5"
      },
      "outputs": [
        {
          "output_type": "display_data",
          "data": {
            "text/plain": [
              "<Figure size 1000x600 with 1 Axes>"
            ],
            "image/png": "[encoded data removed]"
          },
          "metadata": {}
        }
      ],
      "source": [
        "import pandas as pd\n",
        "import matplotlib.pyplot as plt\n",
        "\n",
        "# Example code-to-text mapping\n",
        "mapping = {\n",
        "    1001: \"en projet\",\n",
        "    1002: \"autorisé\",\n",
        "    1003: \"en construction\",\n",
        "    1004: \"existant\",\n",
        "    1005: \"non util.\",\n",
        "    1007: \"démoli\",\n",
        "    1008: \"non réalisé\"\n",
        "}\n",
        "\n",
        "# Create a new column with the decoded values\n",
        "df_batiment['GSTAT_decoded'] = df_batiment['GSTAT'].map(mapping)\n",
        "\n",
        "# Count the frequency of each descriptive value\n",
        "value_counts = df_batiment['GSTAT_decoded'].value_counts()\n",
        "\n",
        "# Plot the bar chart\n",
        "ax = value_counts.plot(kind='bar', figsize=(10,6))\n",
        "plt.title('Distribution of GSTAT Values (Decoded)')\n",
        "plt.xlabel('GSTAT Status')\n",
        "plt.ylabel('Frequency')\n",
        "plt.xticks(rotation=45)\n",
        "plt.tight_layout()\n",
        "\n",
        "# Annotate each bar with the count\n",
        "for p in ax.patches:\n",
        "    ax.annotate(str(int(p.get_height())),\n",
        "                (p.get_x() + p.get_width() / 2, p.get_height()),\n",
        "                ha='center', va='bottom')\n",
        "\n",
        "plt.show()"
      ]
    },
    {
      "cell_type": "markdown",
      "metadata": {
        "id": "9x3n55nsCK53"
      },
      "source": [
        "5. Category of the buildings ('Catégorie de bâtiment', GKAT)"
      ]
    },
    {
      "cell_type": "code",
      "execution_count": 26,
      "metadata": {
        "colab": {
          "base_uri": "https://localhost:8080/",
          "height": 607
        },
        "id": "DrkOXtjBKwNE",
        "outputId": "5777e767-cab2-4a58-e5bf-7da56bb7c70e"
      },
      "outputs": [
        {
          "output_type": "display_data",
          "data": {
            "text/plain": [
              "<Figure size 1000x600 with 1 Axes>"
            ],
            "image/png": "[encoded data removed]"
          },
          "metadata": {}
        }
      ],
      "source": [
        "import pandas as pd\n",
        "import matplotlib.pyplot as plt\n",
        "\n",
        "# GKAT code-to-text mapping\n",
        "gkat_mapping = {\n",
        "    1010: \"Habitation provisoire\",\n",
        "    1020: \"Bâtiment exclusivement à usage d'habitation\",\n",
        "    1030: \"Autre bâtiment d'habitation (annexe)\",\n",
        "    1040: \"Bâtiment partiellement à usage d'habitation\",\n",
        "    1060: \"Bâtiment sans usage d'habitation\",\n",
        "    1080: \"Construction particulière\"\n",
        "}\n",
        "\n",
        "# Create a new column with the decoded values for GKAT\n",
        "df_batiment['GKAT_decoded'] = df_batiment['GKAT'].map(gkat_mapping)\n",
        "\n",
        "# Count the frequency of each descriptive value\n",
        "gkat_value_counts = df_batiment['GKAT_decoded'].value_counts()\n",
        "\n",
        "# Plot the bar chart\n",
        "ax = gkat_value_counts.plot(kind='bar', figsize=(10,6))\n",
        "plt.title('Distribution of Categories of the Buildings')\n",
        "plt.xlabel('Category of the building')\n",
        "plt.ylabel('Frequency')\n",
        "plt.xticks(rotation=45)\n",
        "plt.tight_layout()\n",
        "\n",
        "# Annotate each bar with the count\n",
        "for p in ax.patches:\n",
        "    ax.annotate(str(int(p.get_height())),\n",
        "                (p.get_x() + p.get_width() / 2, p.get_height()),\n",
        "                ha='center', va='bottom')\n",
        "\n",
        "plt.show()"
      ]
    },
    {
      "cell_type": "markdown",
      "metadata": {
        "id": "aD4Dh-lxJVs1"
      },
      "source": [
        "6. Class of the buildings ('Classe de bâtiment', GKLAS)"
      ]
    },
    {
      "cell_type": "code",
      "execution_count": 29,
      "metadata": {
        "colab": {
          "base_uri": "https://localhost:8080/",
          "height": 761
        },
        "id": "QA0HeQ3rEkl2",
        "outputId": "91be1b49-2812-4c26-ebae-b4f2de42c512"
      },
      "outputs": [
        {
          "output_type": "display_data",
          "data": {
            "text/plain": [
              "<Figure size 1200x800 with 1 Axes>"
            ],
            "image/png": "[encoded data removed]"
          },
          "metadata": {}
        }
      ],
      "source": [
        "import pandas as pd\n",
        "import matplotlib.pyplot as plt\n",
        "\n",
        "# GKLAS code-to-text mapping (extended)\n",
        "gklas_mapping = {\n",
        "    11: \"Bâtiments d'habitation\",\n",
        "    111: \"Bâtiments d'habitation (générique)\",\n",
        "    1110: \"Maisons à un logement\",\n",
        "    112: \"Immeubles à deux logements ou plus (générique)\",\n",
        "    1121: \"Maisons à deux logements\",\n",
        "    1122: \"Immeubles à trois logements et plus\",\n",
        "    113: \"Habitat communautaire (générique)\",\n",
        "    1130: \"Habitat communautaire\",\n",
        "    12: \"Bâtiments non résidentiels\",\n",
        "    121: \"Hôtels et bâtiments d'hébergement (générique)\",\n",
        "    1211: \"Hôtels\",\n",
        "    1212: \"Autres bâtiments d'hébergement de tourisme\",\n",
        "    122: \"Immeubles de bureaux (générique)\",\n",
        "    1220: \"Immeubles de bureaux\",\n",
        "    123: \"Bâtiments commerciaux (générique)\",\n",
        "    1230: \"Bâtiments commerciaux\",\n",
        "    1231: \"Restaurants et bars dans des bâtiments sans usage résidentiel\",\n",
        "    124: \"Bâtiments pour les transports et les communications (générique)\",\n",
        "    1241: \"Gares, aérogares, centraux téléphoniques\",\n",
        "    1242: \"Garages\",\n",
        "    125: \"Bâtiments industriels et entrepôts (générique)\",\n",
        "    1251: \"Bâtiments industriels\",\n",
        "    1252: \"Réservoirs, silos et entrepôts\",\n",
        "    126: \"Bâtiments à usage culturel, récréatif, éducatif ou sanitaire (générique)\",\n",
        "    1261: \"Bâtiments à usage culturel, récréatif, éducatif ou sanitaire\",\n",
        "    1262: \"Musées et bibliothèques\",\n",
        "    1263: \"Bâtiments pour l'enseignement et la recherche\",\n",
        "    1264: \"Hôpitaux et établissements de santé\",\n",
        "    1265: \"Salles de sport\",\n",
        "    127: \"Autres bâtiments non résidentiels (générique)\",\n",
        "    1271: \"Bâtiment d'exploitation agricole\",\n",
        "    1272: \"Edifices culturels et religieux\",\n",
        "    1273: \"Monuments historiques ou classés\",\n",
        "    1274: \"Autres bâtiments non classés ailleurs\",\n",
        "    1275: \"Autres bâtiments pour l'hébergement collectif\",\n",
        "    1276: \"Bâtiments pour la garde d'animaux\",\n",
        "    1277: \"Bâtiments pour les cultures végétales\",\n",
        "    1278: \"Autres bâtiments d'exploitation agricole\"\n",
        "}\n",
        "\n",
        "# Create a new column with the decoded values for GKLAS\n",
        "df_batiment['GKLAS_decoded'] = df_batiment['GKLAS'].map(gklas_mapping)\n",
        "\n",
        "# Count the frequency of each descriptive value\n",
        "gklas_value_counts = df_batiment['GKLAS_decoded'].value_counts()\n",
        "\n",
        "# Plot the bar chart\n",
        "ax = gklas_value_counts.plot(kind='bar', figsize=(12,8))\n",
        "plt.title(\"Distribution of Building' Classes\")\n",
        "plt.xlabel('Class of the building')\n",
        "plt.ylabel('Frequency')\n",
        "plt.xticks(rotation=45, ha='right')\n",
        "plt.tight_layout()\n",
        "\n",
        "# Annotate each bar with the count\n",
        "for p in ax.patches:\n",
        "    ax.annotate(str(int(p.get_height())),\n",
        "                (p.get_x() + p.get_width() / 2, p.get_height()),\n",
        "                ha='center', va='bottom')\n",
        "\n",
        "plt.show()"
      ]
    },
    {
      "cell_type": "markdown",
      "metadata": {
        "id": "GRF-lnlLhKUm"
      },
      "source": [
        "7. Year when the building was constructed ('Année de construction du bâtiment', GBAUJ)"
      ]
    },
    {
      "cell_type": "code",
      "execution_count": null,
      "metadata": {
        "colab": {
          "base_uri": "https://localhost:8080/",
          "height": 607
        },
        "id": "U69gPmbWhRYf",
        "outputId": "bd0adc46-04f1-48a3-dfb1-b9cf5373ae47"
      },
      "outputs": [
        {
          "data": {
            "image/png": "[encoded data removed]",
            "text/plain": [
              "<Figure size 1000x600 with 1 Axes>"
            ]
          },
          "metadata": {},
          "output_type": "display_data"
        }
      ],
      "source": [
        "import pandas as pd\n",
        "import matplotlib.pyplot as plt\n",
        "\n",
        "# Count the frequency of each year in the GBAUJ column\n",
        "year_counts = df_batiment['GBAUJ'].value_counts().sort_index()\n",
        "\n",
        "# Plot the line chart\n",
        "plt.figure(figsize=(10,6))\n",
        "plt.plot(year_counts.index, year_counts.values, marker='o')\n",
        "plt.title('Number of Entries per Year (GBAUJ)')\n",
        "plt.xlabel('Year')\n",
        "plt.ylabel('Count')\n",
        "plt.grid(True)\n",
        "plt.tight_layout()\n",
        "plt.show()"
      ]
    },
    {
      "cell_type": "code",
      "execution_count": null,
      "metadata": {
        "colab": {
          "base_uri": "https://localhost:8080/",
          "height": 607
        },
        "id": "qgLT-hALF5eK",
        "outputId": "a83d2134-2d83-4b83-b3d5-000bda44b79d"
      },
      "outputs": [
        {
          "data": {
            "image/png": "[encoded data removed]",
            "text/plain": [
              "<Figure size 1000x600 with 1 Axes>"
            ]
          },
          "metadata": {},
          "output_type": "display_data"
        }
      ],
      "source": [
        "import pandas as pd\n",
        "import matplotlib.pyplot as plt\n",
        "\n",
        "# Filter the DataFrame to include only years >= 1700\n",
        "df_filtered = df_batiment[df_batiment['GBAUJ'] >= 1700]\n",
        "\n",
        "# Count the frequency of each year (>= 1700)\n",
        "year_counts = df_filtered['GBAUJ'].value_counts().sort_index()\n",
        "\n",
        "# Plot the line chart\n",
        "plt.figure(figsize=(10,6))\n",
        "plt.plot(year_counts.index, year_counts.values, marker='o')\n",
        "plt.title('Number of Entries per Year (Starting from 1700)')\n",
        "plt.xlabel('Year')\n",
        "plt.ylabel('Count')\n",
        "plt.grid(True)\n",
        "plt.tight_layout()\n",
        "plt.show()"
      ]
    },
    {
      "cell_type": "code",
      "execution_count": null,
      "metadata": {
        "colab": {
          "base_uri": "https://localhost:8080/",
          "height": 607
        },
        "id": "hmq7qGKQF5jI",
        "outputId": "be24451f-ce7c-41c3-a646-39f363076f44"
      },
      "outputs": [
        {
          "data": {
            "image/png": "[encoded data removed]",
            "text/plain": [
              "<Figure size 1000x600 with 1 Axes>"
            ]
          },
          "metadata": {},
          "output_type": "display_data"
        }
      ],
      "source": [
        "import pandas as pd\n",
        "import matplotlib.pyplot as plt\n",
        "\n",
        "# Filter the DataFrame to include only years >= 1900\n",
        "df_filtered = df_batiment[df_batiment['GBAUJ'] >= 1900]\n",
        "\n",
        "# Count the frequency of each year (>= 1900)\n",
        "year_counts = df_filtered['GBAUJ'].value_counts().sort_index()\n",
        "\n",
        "# Plot the line chart\n",
        "plt.figure(figsize=(10,6))\n",
        "plt.plot(year_counts.index, year_counts.values, marker='o')\n",
        "plt.title('Number of Entries per Year (Starting from 1700)')\n",
        "plt.xlabel('Year')\n",
        "plt.ylabel('Count')\n",
        "plt.grid(True)\n",
        "plt.tight_layout()\n",
        "plt.show()"
      ]
    },
    {
      "cell_type": "markdown",
      "metadata": {
        "id": "2ZxnFo68iDm8"
      },
      "source": [
        "8. Surface area ('Surface du bâtiment', GAREA)"
      ]
    },
    {
      "cell_type": "code",
      "execution_count": null,
      "metadata": {
        "colab": {
          "base_uri": "https://localhost:8080/",
          "height": 607
        },
        "id": "m5Sd9-OOF5n7",
        "outputId": "998c7f4b-cf21-448b-8bab-1de9a3aa08fa"
      },
      "outputs": [
        {
          "data": {
            "image/png": "[encoded data removed]",
            "text/plain": [
              "<Figure size 1000x600 with 1 Axes>"
            ]
          },
          "metadata": {},
          "output_type": "display_data"
        }
      ],
      "source": [
        "import pandas as pd\n",
        "import matplotlib.pyplot as plt\n",
        "\n",
        "# Plot a histogram of the GAREA values\n",
        "plt.figure(figsize=(10,6))\n",
        "plt.hist(df_batiment['GAREA'].dropna(), bins=50, edgecolor='black')\n",
        "plt.title('Distribution de la surface du bâtiment (GAREA)')\n",
        "plt.xlabel('Surface du bâtiment')\n",
        "plt.ylabel('Fréquence')\n",
        "plt.grid(True)\n",
        "plt.tight_layout()\n",
        "plt.show()"
      ]
    },
    {
      "cell_type": "code",
      "execution_count": null,
      "metadata": {
        "colab": {
          "base_uri": "https://localhost:8080/",
          "height": 607
        },
        "id": "bhK6JuGpF5sC",
        "outputId": "bbca0100-cb8c-451e-abac-5c1fc44352ca"
      },
      "outputs": [
        {
          "data": {
            "image/png": "[encoded data removed]",
            "text/plain": [
              "<Figure size 1000x600 with 1 Axes>"
            ]
          },
          "metadata": {},
          "output_type": "display_data"
        }
      ],
      "source": [
        "import pandas as pd\n",
        "import matplotlib.pyplot as plt\n",
        "\n",
        "# Filter the data to only include values from 0 to 3000\n",
        "data_filtered = df_batiment['GAREA'].dropna()\n",
        "data_filtered = data_filtered[(data_filtered >= 0) & (data_filtered <= 3000)]\n",
        "\n",
        "# Plot a regular histogram\n",
        "plt.figure(figsize=(10,6))\n",
        "plt.hist(data_filtered, bins=50, edgecolor='black')\n",
        "\n",
        "plt.title('Distribution de la surface du bâtiment (GAREA) [0 to 5000]')\n",
        "plt.xlabel('Surface du bâtiment')\n",
        "plt.ylabel('Fréquence')\n",
        "plt.grid(True)\n",
        "plt.tight_layout()\n",
        "\n",
        "plt.show()"
      ]
    },
    {
      "cell_type": "code",
      "execution_count": null,
      "metadata": {
        "colab": {
          "background_save": true
        },
        "id": "BmDO_kIVF5wH",
        "outputId": "450d5fc4-4e3e-48b5-e58d-47dc2e781fbc"
      },
      "outputs": [
        {
          "data": {
            "image/png": "[encoded data removed]",
            "text/plain": [
              "<Figure size 1000x600 with 1 Axes>"
            ]
          },
          "metadata": {},
          "output_type": "display_data"
        }
      ],
      "source": []
    },
    {
      "cell_type": "code",
      "execution_count": null,
      "metadata": {
        "id": "X7K6wN3gF51N"
      },
      "outputs": [],
      "source": []
    },
    {
      "cell_type": "code",
      "execution_count": null,
      "metadata": {
        "id": "1p1OhJfiF6M6"
      },
      "outputs": [],
      "source": []
    },
    {
      "cell_type": "code",
      "execution_count": null,
      "metadata": {
        "id": "dqwQK_JIF6SH"
      },
      "outputs": [],
      "source": []
    },
    {
      "cell_type": "markdown",
      "metadata": {
        "id": "h4btlZM8F9JT"
      },
      "source": [
        "# New sub-datasets"
      ]
    },
    {
      "cell_type": "markdown",
      "metadata": {
        "id": "cgy9OSC2GAIR"
      },
      "source": [
        "## Category of the building"
      ]
    },
    {
      "cell_type": "code",
      "execution_count": null,
      "metadata": {
        "id": "B-Ww5bRsF_NI"
      },
      "outputs": [],
      "source": [
        "# List the GKAT categories of interest\n",
        "categories = [1020, 1060, 1030, 1040]\n",
        "\n",
        "# Create a dictionary to store each category's dataset\n",
        "category_datasets = {}\n",
        "\n",
        "for cat in categories:\n",
        "    # Filter rows matching the category and reset index\n",
        "    df_category = df_batiment[df_batiment[\"GKAT\"] == cat].reset_index(drop=True)\n",
        "    category_datasets[cat] = df_category\n",
        "\n",
        "# Example: Access the dataset for category 1020\n",
        "df_1020 = category_datasets[1020]\n",
        "df_1060 = category_datasets[1060]\n",
        "df_1030 = category_datasets[1030]\n",
        "df_1040 = category_datasets[1040]\n",
        "\n",
        "# Now you have separate DataFrames for each category, all with reset indices."
      ]
    },
    {
      "cell_type": "code",
      "execution_count": null,
      "metadata": {
        "colab": {
          "base_uri": "https://localhost:8080/",
          "height": 17
        },
        "id": "CirE_IkjGWL4",
        "outputId": "628b83b1-cbc6-4680-b257-a2c0ac8771c9"
      },
      "outputs": [
        {
          "data": {
            "application/javascript": [
              "\n",
              "    async function download(id, filename, size) {\n",
              "      if (!google.colab.kernel.accessAllowed) {\n",
              "        return;\n",
              "      }\n",
              "      const div = document.createElement('div');\n",
              "      const label = document.createElement('label');\n",
              "      label.textContent = `Downloading \"${filename}\": `;\n",
              "      div.appendChild(label);\n",
              "      const progress = document.createElement('progress');\n",
              "      progress.max = size;\n",
              "      div.appendChild(progress);\n",
              "      document.body.appendChild(div);\n",
              "\n",
              "      const buffers = [];\n",
              "      let downloaded = 0;\n",
              "\n",
              "      const channel = await google.colab.kernel.comms.open(id);\n",
              "      // Send a message to notify the kernel that we're ready.\n",
              "      channel.send({})\n",
              "\n",
              "      for await (const message of channel.messages) {\n",
              "        // Send a message to notify the kernel that we're ready.\n",
              "        channel.send({})\n",
              "        if (message.buffers) {\n",
              "          for (const buffer of message.buffers) {\n",
              "            buffers.push(buffer);\n",
              "            downloaded += buffer.byteLength;\n",
              "            progress.value = downloaded;\n",
              "          }\n",
              "        }\n",
              "      }\n",
              "      const blob = new Blob(buffers, {type: 'application/binary'});\n",
              "      const a = document.createElement('a');\n",
              "      a.href = window.URL.createObjectURL(blob);\n",
              "      a.download = filename;\n",
              "      div.appendChild(a);\n",
              "      a.click();\n",
              "      div.remove();\n",
              "    }\n",
              "  "
            ],
            "text/plain": [
              "<IPython.core.display.Javascript object>"
            ]
          },
          "metadata": {},
          "output_type": "display_data"
        },
        {
          "data": {
            "application/javascript": [
              "download(\"download_04739fa2-e220-4c9f-9d6d-0ec170118759\", \"B\\u00e2timent_exclusivement_\\u00e0_usage_d_habitation.xlsx\", 20805314)"
            ],
            "text/plain": [
              "<IPython.core.display.Javascript object>"
            ]
          },
          "metadata": {},
          "output_type": "display_data"
        }
      ],
      "source": [
        "# Save the DataFrame as an Excel file\n",
        "df_1020.to_excel('Bâtiment_exclusivement_à_usage_d_habitation.xlsx', index=False)\n",
        "\n",
        "# Trigger the file download, you can choose the location on your local machine\n",
        "files.download('Bâtiment_exclusivement_à_usage_d_habitation.xlsx')"
      ]
    },
    {
      "cell_type": "code",
      "execution_count": null,
      "metadata": {
        "colab": {
          "base_uri": "https://localhost:8080/",
          "height": 17
        },
        "id": "OJrM9uk_GuAO",
        "outputId": "5b1fe3c7-b7fa-4fae-8bcd-9f26f6b92f5c"
      },
      "outputs": [
        {
          "data": {
            "application/javascript": [
              "\n",
              "    async function download(id, filename, size) {\n",
              "      if (!google.colab.kernel.accessAllowed) {\n",
              "        return;\n",
              "      }\n",
              "      const div = document.createElement('div');\n",
              "      const label = document.createElement('label');\n",
              "      label.textContent = `Downloading \"${filename}\": `;\n",
              "      div.appendChild(label);\n",
              "      const progress = document.createElement('progress');\n",
              "      progress.max = size;\n",
              "      div.appendChild(progress);\n",
              "      document.body.appendChild(div);\n",
              "\n",
              "      const buffers = [];\n",
              "      let downloaded = 0;\n",
              "\n",
              "      const channel = await google.colab.kernel.comms.open(id);\n",
              "      // Send a message to notify the kernel that we're ready.\n",
              "      channel.send({})\n",
              "\n",
              "      for await (const message of channel.messages) {\n",
              "        // Send a message to notify the kernel that we're ready.\n",
              "        channel.send({})\n",
              "        if (message.buffers) {\n",
              "          for (const buffer of message.buffers) {\n",
              "            buffers.push(buffer);\n",
              "            downloaded += buffer.byteLength;\n",
              "            progress.value = downloaded;\n",
              "          }\n",
              "        }\n",
              "      }\n",
              "      const blob = new Blob(buffers, {type: 'application/binary'});\n",
              "      const a = document.createElement('a');\n",
              "      a.href = window.URL.createObjectURL(blob);\n",
              "      a.download = filename;\n",
              "      div.appendChild(a);\n",
              "      a.click();\n",
              "      div.remove();\n",
              "    }\n",
              "  "
            ],
            "text/plain": [
              "<IPython.core.display.Javascript object>"
            ]
          },
          "metadata": {},
          "output_type": "display_data"
        },
        {
          "data": {
            "application/javascript": [
              "download(\"download_cc8e6c07-efad-446a-883a-145c4308028c\", \"B\\u00e2timent_sans_usage_d_habitation.xlsx\", 15674360)"
            ],
            "text/plain": [
              "<IPython.core.display.Javascript object>"
            ]
          },
          "metadata": {},
          "output_type": "display_data"
        }
      ],
      "source": [
        "# Save the DataFrame as an Excel file\n",
        "df_1060.to_excel('Bâtiment_sans_usage_d_habitation.xlsx', index=False)\n",
        "\n",
        "# Trigger the file download, you can choose the location on your local machine\n",
        "files.download('Bâtiment_sans_usage_d_habitation.xlsx')"
      ]
    },
    {
      "cell_type": "code",
      "execution_count": null,
      "metadata": {
        "colab": {
          "base_uri": "https://localhost:8080/",
          "height": 17
        },
        "id": "l5n8cVGOG5o0",
        "outputId": "a4c4be6b-f178-4165-dfc5-87a4847db7f9"
      },
      "outputs": [
        {
          "data": {
            "application/javascript": [
              "\n",
              "    async function download(id, filename, size) {\n",
              "      if (!google.colab.kernel.accessAllowed) {\n",
              "        return;\n",
              "      }\n",
              "      const div = document.createElement('div');\n",
              "      const label = document.createElement('label');\n",
              "      label.textContent = `Downloading \"${filename}\": `;\n",
              "      div.appendChild(label);\n",
              "      const progress = document.createElement('progress');\n",
              "      progress.max = size;\n",
              "      div.appendChild(progress);\n",
              "      document.body.appendChild(div);\n",
              "\n",
              "      const buffers = [];\n",
              "      let downloaded = 0;\n",
              "\n",
              "      const channel = await google.colab.kernel.comms.open(id);\n",
              "      // Send a message to notify the kernel that we're ready.\n",
              "      channel.send({})\n",
              "\n",
              "      for await (const message of channel.messages) {\n",
              "        // Send a message to notify the kernel that we're ready.\n",
              "        channel.send({})\n",
              "        if (message.buffers) {\n",
              "          for (const buffer of message.buffers) {\n",
              "            buffers.push(buffer);\n",
              "            downloaded += buffer.byteLength;\n",
              "            progress.value = downloaded;\n",
              "          }\n",
              "        }\n",
              "      }\n",
              "      const blob = new Blob(buffers, {type: 'application/binary'});\n",
              "      const a = document.createElement('a');\n",
              "      a.href = window.URL.createObjectURL(blob);\n",
              "      a.download = filename;\n",
              "      div.appendChild(a);\n",
              "      a.click();\n",
              "      div.remove();\n",
              "    }\n",
              "  "
            ],
            "text/plain": [
              "<IPython.core.display.Javascript object>"
            ]
          },
          "metadata": {},
          "output_type": "display_data"
        },
        {
          "data": {
            "application/javascript": [
              "download(\"download_1a88f356-f69c-4bec-8453-e78a9623b1d8\", \"Autre_b\\u00e2timent_d_habitation.xlsx\", 3302908)"
            ],
            "text/plain": [
              "<IPython.core.display.Javascript object>"
            ]
          },
          "metadata": {},
          "output_type": "display_data"
        }
      ],
      "source": [
        "# Save the DataFrame as an Excel file\n",
        "df_1030.to_excel('Autre_bâtiment_d_habitation.xlsx', index=False)\n",
        "\n",
        "# Trigger the file download, you can choose the location on your local machine\n",
        "files.download('Autre_bâtiment_d_habitation.xlsx')"
      ]
    },
    {
      "cell_type": "code",
      "execution_count": null,
      "metadata": {
        "colab": {
          "base_uri": "https://localhost:8080/",
          "height": 17
        },
        "id": "F8DC3fWKHGSB",
        "outputId": "9019e9de-0ab6-4f57-9951-1592986f2347"
      },
      "outputs": [
        {
          "data": {
            "application/javascript": [
              "\n",
              "    async function download(id, filename, size) {\n",
              "      if (!google.colab.kernel.accessAllowed) {\n",
              "        return;\n",
              "      }\n",
              "      const div = document.createElement('div');\n",
              "      const label = document.createElement('label');\n",
              "      label.textContent = `Downloading \"${filename}\": `;\n",
              "      div.appendChild(label);\n",
              "      const progress = document.createElement('progress');\n",
              "      progress.max = size;\n",
              "      div.appendChild(progress);\n",
              "      document.body.appendChild(div);\n",
              "\n",
              "      const buffers = [];\n",
              "      let downloaded = 0;\n",
              "\n",
              "      const channel = await google.colab.kernel.comms.open(id);\n",
              "      // Send a message to notify the kernel that we're ready.\n",
              "      channel.send({})\n",
              "\n",
              "      for await (const message of channel.messages) {\n",
              "        // Send a message to notify the kernel that we're ready.\n",
              "        channel.send({})\n",
              "        if (message.buffers) {\n",
              "          for (const buffer of message.buffers) {\n",
              "            buffers.push(buffer);\n",
              "            downloaded += buffer.byteLength;\n",
              "            progress.value = downloaded;\n",
              "          }\n",
              "        }\n",
              "      }\n",
              "      const blob = new Blob(buffers, {type: 'application/binary'});\n",
              "      const a = document.createElement('a');\n",
              "      a.href = window.URL.createObjectURL(blob);\n",
              "      a.download = filename;\n",
              "      div.appendChild(a);\n",
              "      a.click();\n",
              "      div.remove();\n",
              "    }\n",
              "  "
            ],
            "text/plain": [
              "<IPython.core.display.Javascript object>"
            ]
          },
          "metadata": {},
          "output_type": "display_data"
        },
        {
          "data": {
            "application/javascript": [
              "download(\"download_44a4eec5-841d-4903-9327-01cf89bbdc72\", \"B\\u00e2timent_partiellement_\\u00e0_usage_d_habitation.xlsx\", 1020794)"
            ],
            "text/plain": [
              "<IPython.core.display.Javascript object>"
            ]
          },
          "metadata": {},
          "output_type": "display_data"
        }
      ],
      "source": [
        "# Save the DataFrame as an Excel file\n",
        "df_1040.to_excel('Bâtiment_partiellement_à_usage_d_habitation.xlsx', index=False)\n",
        "\n",
        "# Trigger the file download, you can choose the location on your local machine\n",
        "files.download('Bâtiment_partiellement_à_usage_d_habitation.xlsx')"
      ]
    },
    {
      "cell_type": "markdown",
      "metadata": {
        "id": "YR7Y6wlYMQyL"
      },
      "source": [
        "## Class of the building"
      ]
    },
    {
      "cell_type": "code",
      "execution_count": null,
      "metadata": {
        "id": "zBgTSSGOH0y0"
      },
      "outputs": [],
      "source": [
        "import pandas as pd\n",
        "\n",
        "# Example: select some GKLAS categories of interest\n",
        "# (Replace these with whatever GKLAS codes you want to filter by.)\n",
        "gklas_categories = [1110, 1274, 1122, 1242,\n",
        "                    1121, 1271, 1130, 1211,\n",
        "                    1220, 1230, 1251, 1261,\n",
        "                    1262, 1263, 1264, 1265]\n",
        "\n",
        "# Create a dictionary to store each category's dataset\n",
        "gklas_datasets = {}\n",
        "\n",
        "for cat in gklas_categories:\n",
        "    # Filter rows matching the category and reset index\n",
        "    df_gklas_category = df_batiment[df_batiment[\"GKLAS\"] == cat].reset_index(drop=True)\n",
        "    gklas_datasets[cat] = df_gklas_category\n",
        "\n",
        "# Example: Access the dataset for a particular GKLAS category\n",
        "df_1110 = gklas_datasets[1110]\n",
        "df_1274 = gklas_datasets[1274]\n",
        "df_1122 = gklas_datasets[1122]\n",
        "df_1242 = gklas_datasets[1242]\n",
        "df_1121 = gklas_datasets[1121]\n",
        "df_1271 = gklas_datasets[1271]\n",
        "df_1130 = gklas_datasets[1130]\n",
        "df_1211 = gklas_datasets[1211]\n",
        "df_1220 = gklas_datasets[1220]\n",
        "df_1230 = gklas_datasets[1230]\n",
        "df_1251 = gklas_datasets[1251]\n",
        "df_1261 = gklas_datasets[1261]\n",
        "df_1262 = gklas_datasets[1262]\n",
        "df_1263 = gklas_datasets[1263]\n",
        "df_1264 = gklas_datasets[1264]\n",
        "df_1265 = gklas_datasets[1265]\n",
        "\n",
        "# Now you have separate DataFrames for each chosen GKLAS category, all with reset indices."
      ]
    },
    {
      "cell_type": "code",
      "execution_count": null,
      "metadata": {
        "colab": {
          "base_uri": "https://localhost:8080/",
          "height": 17
        },
        "id": "22df8hJRMMoo",
        "outputId": "7e4be832-aa8c-4d1c-ee69-c1d78321361a"
      },
      "outputs": [
        {
          "data": {
            "application/javascript": [
              "\n",
              "    async function download(id, filename, size) {\n",
              "      if (!google.colab.kernel.accessAllowed) {\n",
              "        return;\n",
              "      }\n",
              "      const div = document.createElement('div');\n",
              "      const label = document.createElement('label');\n",
              "      label.textContent = `Downloading \"${filename}\": `;\n",
              "      div.appendChild(label);\n",
              "      const progress = document.createElement('progress');\n",
              "      progress.max = size;\n",
              "      div.appendChild(progress);\n",
              "      document.body.appendChild(div);\n",
              "\n",
              "      const buffers = [];\n",
              "      let downloaded = 0;\n",
              "\n",
              "      const channel = await google.colab.kernel.comms.open(id);\n",
              "      // Send a message to notify the kernel that we're ready.\n",
              "      channel.send({})\n",
              "\n",
              "      for await (const message of channel.messages) {\n",
              "        // Send a message to notify the kernel that we're ready.\n",
              "        channel.send({})\n",
              "        if (message.buffers) {\n",
              "          for (const buffer of message.buffers) {\n",
              "            buffers.push(buffer);\n",
              "            downloaded += buffer.byteLength;\n",
              "            progress.value = downloaded;\n",
              "          }\n",
              "        }\n",
              "      }\n",
              "      const blob = new Blob(buffers, {type: 'application/binary'});\n",
              "      const a = document.createElement('a');\n",
              "      a.href = window.URL.createObjectURL(blob);\n",
              "      a.download = filename;\n",
              "      div.appendChild(a);\n",
              "      a.click();\n",
              "      div.remove();\n",
              "    }\n",
              "  "
            ],
            "text/plain": [
              "<IPython.core.display.Javascript object>"
            ]
          },
          "metadata": {},
          "output_type": "display_data"
        },
        {
          "data": {
            "application/javascript": [
              "download(\"download_709811d2-0eda-415f-9e84-ed2999492295\", \"Maisons_\\u00e0_un_logement.xlsx\", 15120672)"
            ],
            "text/plain": [
              "<IPython.core.display.Javascript object>"
            ]
          },
          "metadata": {},
          "output_type": "display_data"
        }
      ],
      "source": [
        "# Save the DataFrame as an Excel file\n",
        "df_1110.to_excel('Maisons_à_un_logement.xlsx', index=False)\n",
        "\n",
        "# Trigger the file download, you can choose the location on your local machine\n",
        "files.download('Maisons_à_un_logement.xlsx')"
      ]
    },
    {
      "cell_type": "code",
      "execution_count": null,
      "metadata": {
        "colab": {
          "base_uri": "https://localhost:8080/",
          "height": 17
        },
        "id": "eDOWB2HvdMQF",
        "outputId": "3e3b6f96-42ec-4c28-b63c-93e155bf5948"
      },
      "outputs": [
        {
          "data": {
            "application/javascript": [
              "\n",
              "    async function download(id, filename, size) {\n",
              "      if (!google.colab.kernel.accessAllowed) {\n",
              "        return;\n",
              "      }\n",
              "      const div = document.createElement('div');\n",
              "      const label = document.createElement('label');\n",
              "      label.textContent = `Downloading \"${filename}\": `;\n",
              "      div.appendChild(label);\n",
              "      const progress = document.createElement('progress');\n",
              "      progress.max = size;\n",
              "      div.appendChild(progress);\n",
              "      document.body.appendChild(div);\n",
              "\n",
              "      const buffers = [];\n",
              "      let downloaded = 0;\n",
              "\n",
              "      const channel = await google.colab.kernel.comms.open(id);\n",
              "      // Send a message to notify the kernel that we're ready.\n",
              "      channel.send({})\n",
              "\n",
              "      for await (const message of channel.messages) {\n",
              "        // Send a message to notify the kernel that we're ready.\n",
              "        channel.send({})\n",
              "        if (message.buffers) {\n",
              "          for (const buffer of message.buffers) {\n",
              "            buffers.push(buffer);\n",
              "            downloaded += buffer.byteLength;\n",
              "            progress.value = downloaded;\n",
              "          }\n",
              "        }\n",
              "      }\n",
              "      const blob = new Blob(buffers, {type: 'application/binary'});\n",
              "      const a = document.createElement('a');\n",
              "      a.href = window.URL.createObjectURL(blob);\n",
              "      a.download = filename;\n",
              "      div.appendChild(a);\n",
              "      a.click();\n",
              "      div.remove();\n",
              "    }\n",
              "  "
            ],
            "text/plain": [
              "<IPython.core.display.Javascript object>"
            ]
          },
          "metadata": {},
          "output_type": "display_data"
        },
        {
          "data": {
            "application/javascript": [
              "download(\"download_db9b104a-9a26-40e1-938b-c5a29f886621\", \"Autres_b\\u00e2timents_non_class\\u00e9s_ailleurs.xlsx\", 7444346)"
            ],
            "text/plain": [
              "<IPython.core.display.Javascript object>"
            ]
          },
          "metadata": {},
          "output_type": "display_data"
        }
      ],
      "source": [
        "# Save the DataFrame as an Excel file\n",
        "df_1274.to_excel('Autres_bâtiments_non_classés_ailleurs.xlsx', index=False)\n",
        "\n",
        "# Trigger the file download, you can choose the location on your local machine\n",
        "files.download('Autres_bâtiments_non_classés_ailleurs.xlsx')"
      ]
    },
    {
      "cell_type": "code",
      "execution_count": null,
      "metadata": {
        "colab": {
          "base_uri": "https://localhost:8080/",
          "height": 17
        },
        "id": "BNW7Q03CMMvw",
        "outputId": "eaf9d1dc-220c-4454-ad11-c56bdacf961b"
      },
      "outputs": [
        {
          "data": {
            "application/javascript": [
              "\n",
              "    async function download(id, filename, size) {\n",
              "      if (!google.colab.kernel.accessAllowed) {\n",
              "        return;\n",
              "      }\n",
              "      const div = document.createElement('div');\n",
              "      const label = document.createElement('label');\n",
              "      label.textContent = `Downloading \"${filename}\": `;\n",
              "      div.appendChild(label);\n",
              "      const progress = document.createElement('progress');\n",
              "      progress.max = size;\n",
              "      div.appendChild(progress);\n",
              "      document.body.appendChild(div);\n",
              "\n",
              "      const buffers = [];\n",
              "      let downloaded = 0;\n",
              "\n",
              "      const channel = await google.colab.kernel.comms.open(id);\n",
              "      // Send a message to notify the kernel that we're ready.\n",
              "      channel.send({})\n",
              "\n",
              "      for await (const message of channel.messages) {\n",
              "        // Send a message to notify the kernel that we're ready.\n",
              "        channel.send({})\n",
              "        if (message.buffers) {\n",
              "          for (const buffer of message.buffers) {\n",
              "            buffers.push(buffer);\n",
              "            downloaded += buffer.byteLength;\n",
              "            progress.value = downloaded;\n",
              "          }\n",
              "        }\n",
              "      }\n",
              "      const blob = new Blob(buffers, {type: 'application/binary'});\n",
              "      const a = document.createElement('a');\n",
              "      a.href = window.URL.createObjectURL(blob);\n",
              "      a.download = filename;\n",
              "      div.appendChild(a);\n",
              "      a.click();\n",
              "      div.remove();\n",
              "    }\n",
              "  "
            ],
            "text/plain": [
              "<IPython.core.display.Javascript object>"
            ]
          },
          "metadata": {},
          "output_type": "display_data"
        },
        {
          "data": {
            "application/javascript": [
              "download(\"download_7263476d-2832-44da-a864-d39878bc1840\", \"Immeubles_\\u00e0_trois_logements_et_plus.xlsx\", 6255985)"
            ],
            "text/plain": [
              "<IPython.core.display.Javascript object>"
            ]
          },
          "metadata": {},
          "output_type": "display_data"
        }
      ],
      "source": [
        "# Save the DataFrame as an Excel file\n",
        "df_1122.to_excel('Immeubles_à_trois_logements_et_plus.xlsx', index=False)\n",
        "\n",
        "# Trigger the file download, you can choose the location on your local machine\n",
        "files.download('Immeubles_à_trois_logements_et_plus.xlsx')"
      ]
    },
    {
      "cell_type": "code",
      "execution_count": null,
      "metadata": {
        "colab": {
          "base_uri": "https://localhost:8080/",
          "height": 17
        },
        "id": "zHgtxZHydNF_",
        "outputId": "a68da0a5-a09f-4482-d966-0f0a44939183"
      },
      "outputs": [
        {
          "data": {
            "application/javascript": [
              "\n",
              "    async function download(id, filename, size) {\n",
              "      if (!google.colab.kernel.accessAllowed) {\n",
              "        return;\n",
              "      }\n",
              "      const div = document.createElement('div');\n",
              "      const label = document.createElement('label');\n",
              "      label.textContent = `Downloading \"${filename}\": `;\n",
              "      div.appendChild(label);\n",
              "      const progress = document.createElement('progress');\n",
              "      progress.max = size;\n",
              "      div.appendChild(progress);\n",
              "      document.body.appendChild(div);\n",
              "\n",
              "      const buffers = [];\n",
              "      let downloaded = 0;\n",
              "\n",
              "      const channel = await google.colab.kernel.comms.open(id);\n",
              "      // Send a message to notify the kernel that we're ready.\n",
              "      channel.send({})\n",
              "\n",
              "      for await (const message of channel.messages) {\n",
              "        // Send a message to notify the kernel that we're ready.\n",
              "        channel.send({})\n",
              "        if (message.buffers) {\n",
              "          for (const buffer of message.buffers) {\n",
              "            buffers.push(buffer);\n",
              "            downloaded += buffer.byteLength;\n",
              "            progress.value = downloaded;\n",
              "          }\n",
              "        }\n",
              "      }\n",
              "      const blob = new Blob(buffers, {type: 'application/binary'});\n",
              "      const a = document.createElement('a');\n",
              "      a.href = window.URL.createObjectURL(blob);\n",
              "      a.download = filename;\n",
              "      div.appendChild(a);\n",
              "      a.click();\n",
              "      div.remove();\n",
              "    }\n",
              "  "
            ],
            "text/plain": [
              "<IPython.core.display.Javascript object>"
            ]
          },
          "metadata": {},
          "output_type": "display_data"
        },
        {
          "data": {
            "application/javascript": [
              "download(\"download_ef028f72-2c6c-42f8-801c-617d1806a7bd\", \"Garages.xlsx\", 4564423)"
            ],
            "text/plain": [
              "<IPython.core.display.Javascript object>"
            ]
          },
          "metadata": {},
          "output_type": "display_data"
        }
      ],
      "source": [
        "# Save the DataFrame as an Excel file\n",
        "df_1242.to_excel('Garages.xlsx', index=False)\n",
        "\n",
        "# Trigger the file download, you can choose the location on your local machine\n",
        "files.download('Garages.xlsx')"
      ]
    },
    {
      "cell_type": "code",
      "execution_count": null,
      "metadata": {
        "colab": {
          "base_uri": "https://localhost:8080/",
          "height": 17
        },
        "id": "oGHfYrkpdNnJ",
        "outputId": "ec5e064c-1788-4e7f-cf74-74dfa38ebb0f"
      },
      "outputs": [
        {
          "data": {
            "application/javascript": [
              "\n",
              "    async function download(id, filename, size) {\n",
              "      if (!google.colab.kernel.accessAllowed) {\n",
              "        return;\n",
              "      }\n",
              "      const div = document.createElement('div');\n",
              "      const label = document.createElement('label');\n",
              "      label.textContent = `Downloading \"${filename}\": `;\n",
              "      div.appendChild(label);\n",
              "      const progress = document.createElement('progress');\n",
              "      progress.max = size;\n",
              "      div.appendChild(progress);\n",
              "      document.body.appendChild(div);\n",
              "\n",
              "      const buffers = [];\n",
              "      let downloaded = 0;\n",
              "\n",
              "      const channel = await google.colab.kernel.comms.open(id);\n",
              "      // Send a message to notify the kernel that we're ready.\n",
              "      channel.send({})\n",
              "\n",
              "      for await (const message of channel.messages) {\n",
              "        // Send a message to notify the kernel that we're ready.\n",
              "        channel.send({})\n",
              "        if (message.buffers) {\n",
              "          for (const buffer of message.buffers) {\n",
              "            buffers.push(buffer);\n",
              "            downloaded += buffer.byteLength;\n",
              "            progress.value = downloaded;\n",
              "          }\n",
              "        }\n",
              "      }\n",
              "      const blob = new Blob(buffers, {type: 'application/binary'});\n",
              "      const a = document.createElement('a');\n",
              "      a.href = window.URL.createObjectURL(blob);\n",
              "      a.download = filename;\n",
              "      div.appendChild(a);\n",
              "      a.click();\n",
              "      div.remove();\n",
              "    }\n",
              "  "
            ],
            "text/plain": [
              "<IPython.core.display.Javascript object>"
            ]
          },
          "metadata": {},
          "output_type": "display_data"
        },
        {
          "data": {
            "application/javascript": [
              "download(\"download_e8efde35-8b1e-45d6-8864-8f9d58198e62\", \"Maisons_\\u00e0_deux_logements.xlsx\", 3310526)"
            ],
            "text/plain": [
              "<IPython.core.display.Javascript object>"
            ]
          },
          "metadata": {},
          "output_type": "display_data"
        }
      ],
      "source": [
        "# Save the DataFrame as an Excel file\n",
        "df_1121.to_excel('Maisons_à_deux_logements.xlsx', index=False)\n",
        "\n",
        "# Trigger the file download, you can choose the location on your local machine\n",
        "files.download('Maisons_à_deux_logements.xlsx')"
      ]
    },
    {
      "cell_type": "code",
      "execution_count": null,
      "metadata": {
        "colab": {
          "base_uri": "https://localhost:8080/",
          "height": 17
        },
        "id": "LezqAD-feCPM",
        "outputId": "076ca31a-0533-4893-efcb-98c5888bee60"
      },
      "outputs": [
        {
          "data": {
            "application/javascript": [
              "\n",
              "    async function download(id, filename, size) {\n",
              "      if (!google.colab.kernel.accessAllowed) {\n",
              "        return;\n",
              "      }\n",
              "      const div = document.createElement('div');\n",
              "      const label = document.createElement('label');\n",
              "      label.textContent = `Downloading \"${filename}\": `;\n",
              "      div.appendChild(label);\n",
              "      const progress = document.createElement('progress');\n",
              "      progress.max = size;\n",
              "      div.appendChild(progress);\n",
              "      document.body.appendChild(div);\n",
              "\n",
              "      const buffers = [];\n",
              "      let downloaded = 0;\n",
              "\n",
              "      const channel = await google.colab.kernel.comms.open(id);\n",
              "      // Send a message to notify the kernel that we're ready.\n",
              "      channel.send({})\n",
              "\n",
              "      for await (const message of channel.messages) {\n",
              "        // Send a message to notify the kernel that we're ready.\n",
              "        channel.send({})\n",
              "        if (message.buffers) {\n",
              "          for (const buffer of message.buffers) {\n",
              "            buffers.push(buffer);\n",
              "            downloaded += buffer.byteLength;\n",
              "            progress.value = downloaded;\n",
              "          }\n",
              "        }\n",
              "      }\n",
              "      const blob = new Blob(buffers, {type: 'application/binary'});\n",
              "      const a = document.createElement('a');\n",
              "      a.href = window.URL.createObjectURL(blob);\n",
              "      a.download = filename;\n",
              "      div.appendChild(a);\n",
              "      a.click();\n",
              "      div.remove();\n",
              "    }\n",
              "  "
            ],
            "text/plain": [
              "<IPython.core.display.Javascript object>"
            ]
          },
          "metadata": {},
          "output_type": "display_data"
        },
        {
          "data": {
            "application/javascript": [
              "download(\"download_93390473-5538-4e33-b438-9e0a44705132\", \"B\\u00e2timent_d_exploitation_agricole.xlsx\", 2368586)"
            ],
            "text/plain": [
              "<IPython.core.display.Javascript object>"
            ]
          },
          "metadata": {},
          "output_type": "display_data"
        }
      ],
      "source": [
        "# Save the DataFrame as an Excel file\n",
        "df_1271.to_excel('Bâtiment_d_exploitation_agricole.xlsx', index=False)\n",
        "\n",
        "# Trigger the file download, you can choose the location on your local machine\n",
        "files.download('Bâtiment_d_exploitation_agricole.xlsx')"
      ]
    },
    {
      "cell_type": "code",
      "execution_count": null,
      "metadata": {
        "colab": {
          "base_uri": "https://localhost:8080/",
          "height": 17
        },
        "id": "cveBqKO2eVLw",
        "outputId": "bfa4b2e4-9ef3-4eaa-b548-861f92d505bf"
      },
      "outputs": [
        {
          "data": {
            "application/javascript": [
              "\n",
              "    async function download(id, filename, size) {\n",
              "      if (!google.colab.kernel.accessAllowed) {\n",
              "        return;\n",
              "      }\n",
              "      const div = document.createElement('div');\n",
              "      const label = document.createElement('label');\n",
              "      label.textContent = `Downloading \"${filename}\": `;\n",
              "      div.appendChild(label);\n",
              "      const progress = document.createElement('progress');\n",
              "      progress.max = size;\n",
              "      div.appendChild(progress);\n",
              "      document.body.appendChild(div);\n",
              "\n",
              "      const buffers = [];\n",
              "      let downloaded = 0;\n",
              "\n",
              "      const channel = await google.colab.kernel.comms.open(id);\n",
              "      // Send a message to notify the kernel that we're ready.\n",
              "      channel.send({})\n",
              "\n",
              "      for await (const message of channel.messages) {\n",
              "        // Send a message to notify the kernel that we're ready.\n",
              "        channel.send({})\n",
              "        if (message.buffers) {\n",
              "          for (const buffer of message.buffers) {\n",
              "            buffers.push(buffer);\n",
              "            downloaded += buffer.byteLength;\n",
              "            progress.value = downloaded;\n",
              "          }\n",
              "        }\n",
              "      }\n",
              "      const blob = new Blob(buffers, {type: 'application/binary'});\n",
              "      const a = document.createElement('a');\n",
              "      a.href = window.URL.createObjectURL(blob);\n",
              "      a.download = filename;\n",
              "      div.appendChild(a);\n",
              "      a.click();\n",
              "      div.remove();\n",
              "    }\n",
              "  "
            ],
            "text/plain": [
              "<IPython.core.display.Javascript object>"
            ]
          },
          "metadata": {},
          "output_type": "display_data"
        },
        {
          "data": {
            "application/javascript": [
              "download(\"download_4615878e-4e29-4ae3-b0fe-665b123e5562\", \"Habitat_communautaire.xlsx\", 62008)"
            ],
            "text/plain": [
              "<IPython.core.display.Javascript object>"
            ]
          },
          "metadata": {},
          "output_type": "display_data"
        }
      ],
      "source": [
        "# Save the DataFrame as an Excel file\n",
        "df_1130.to_excel('Habitat_communautaire.xlsx', index=False)\n",
        "\n",
        "# Trigger the file download, you can choose the location on your local machine\n",
        "files.download('Habitat_communautaire.xlsx')"
      ]
    },
    {
      "cell_type": "code",
      "execution_count": null,
      "metadata": {
        "colab": {
          "base_uri": "https://localhost:8080/",
          "height": 17
        },
        "id": "fsBuABNXefIS",
        "outputId": "c1e977de-d78f-4aa0-b9ff-f186a4d25ffa"
      },
      "outputs": [
        {
          "data": {
            "application/javascript": [
              "\n",
              "    async function download(id, filename, size) {\n",
              "      if (!google.colab.kernel.accessAllowed) {\n",
              "        return;\n",
              "      }\n",
              "      const div = document.createElement('div');\n",
              "      const label = document.createElement('label');\n",
              "      label.textContent = `Downloading \"${filename}\": `;\n",
              "      div.appendChild(label);\n",
              "      const progress = document.createElement('progress');\n",
              "      progress.max = size;\n",
              "      div.appendChild(progress);\n",
              "      document.body.appendChild(div);\n",
              "\n",
              "      const buffers = [];\n",
              "      let downloaded = 0;\n",
              "\n",
              "      const channel = await google.colab.kernel.comms.open(id);\n",
              "      // Send a message to notify the kernel that we're ready.\n",
              "      channel.send({})\n",
              "\n",
              "      for await (const message of channel.messages) {\n",
              "        // Send a message to notify the kernel that we're ready.\n",
              "        channel.send({})\n",
              "        if (message.buffers) {\n",
              "          for (const buffer of message.buffers) {\n",
              "            buffers.push(buffer);\n",
              "            downloaded += buffer.byteLength;\n",
              "            progress.value = downloaded;\n",
              "          }\n",
              "        }\n",
              "      }\n",
              "      const blob = new Blob(buffers, {type: 'application/binary'});\n",
              "      const a = document.createElement('a');\n",
              "      a.href = window.URL.createObjectURL(blob);\n",
              "      a.download = filename;\n",
              "      div.appendChild(a);\n",
              "      a.click();\n",
              "      div.remove();\n",
              "    }\n",
              "  "
            ],
            "text/plain": [
              "<IPython.core.display.Javascript object>"
            ]
          },
          "metadata": {},
          "output_type": "display_data"
        },
        {
          "data": {
            "application/javascript": [
              "download(\"download_2102df30-a119-4f6b-91c8-f6518b7d3833\", \"H\\u00f4tels.xlsx\", 69058)"
            ],
            "text/plain": [
              "<IPython.core.display.Javascript object>"
            ]
          },
          "metadata": {},
          "output_type": "display_data"
        }
      ],
      "source": [
        "# Save the DataFrame as an Excel file\n",
        "df_1211.to_excel('Hôtels.xlsx', index=False)\n",
        "\n",
        "# Trigger the file download, you can choose the location on your local machine\n",
        "files.download('Hôtels.xlsx')"
      ]
    },
    {
      "cell_type": "code",
      "execution_count": null,
      "metadata": {
        "colab": {
          "base_uri": "https://localhost:8080/",
          "height": 17
        },
        "id": "cYQrI0lget0t",
        "outputId": "f86eaf7b-49e9-4470-90e4-d42be3f478a1"
      },
      "outputs": [
        {
          "data": {
            "application/javascript": [
              "\n",
              "    async function download(id, filename, size) {\n",
              "      if (!google.colab.kernel.accessAllowed) {\n",
              "        return;\n",
              "      }\n",
              "      const div = document.createElement('div');\n",
              "      const label = document.createElement('label');\n",
              "      label.textContent = `Downloading \"${filename}\": `;\n",
              "      div.appendChild(label);\n",
              "      const progress = document.createElement('progress');\n",
              "      progress.max = size;\n",
              "      div.appendChild(progress);\n",
              "      document.body.appendChild(div);\n",
              "\n",
              "      const buffers = [];\n",
              "      let downloaded = 0;\n",
              "\n",
              "      const channel = await google.colab.kernel.comms.open(id);\n",
              "      // Send a message to notify the kernel that we're ready.\n",
              "      channel.send({})\n",
              "\n",
              "      for await (const message of channel.messages) {\n",
              "        // Send a message to notify the kernel that we're ready.\n",
              "        channel.send({})\n",
              "        if (message.buffers) {\n",
              "          for (const buffer of message.buffers) {\n",
              "            buffers.push(buffer);\n",
              "            downloaded += buffer.byteLength;\n",
              "            progress.value = downloaded;\n",
              "          }\n",
              "        }\n",
              "      }\n",
              "      const blob = new Blob(buffers, {type: 'application/binary'});\n",
              "      const a = document.createElement('a');\n",
              "      a.href = window.URL.createObjectURL(blob);\n",
              "      a.download = filename;\n",
              "      div.appendChild(a);\n",
              "      a.click();\n",
              "      div.remove();\n",
              "    }\n",
              "  "
            ],
            "text/plain": [
              "<IPython.core.display.Javascript object>"
            ]
          },
          "metadata": {},
          "output_type": "display_data"
        },
        {
          "data": {
            "application/javascript": [
              "download(\"download_5ca223c1-7744-494c-92a4-a923a9c86ce1\", \"Immeubles_de_bureaux.xlsx\", 249412)"
            ],
            "text/plain": [
              "<IPython.core.display.Javascript object>"
            ]
          },
          "metadata": {},
          "output_type": "display_data"
        }
      ],
      "source": [
        "# Save the DataFrame as an Excel file\n",
        "df_1220.to_excel('Immeubles_de_bureaux.xlsx', index=False)\n",
        "\n",
        "# Trigger the file download, you can choose the location on your local machine\n",
        "files.download('Immeubles_de_bureaux.xlsx')"
      ]
    },
    {
      "cell_type": "code",
      "execution_count": null,
      "metadata": {
        "colab": {
          "base_uri": "https://localhost:8080/",
          "height": 17
        },
        "id": "ZdgroWfbe4UC",
        "outputId": "8a45b5df-01e5-4efb-ff9b-3381bbd8dfbb"
      },
      "outputs": [
        {
          "data": {
            "application/javascript": [
              "\n",
              "    async function download(id, filename, size) {\n",
              "      if (!google.colab.kernel.accessAllowed) {\n",
              "        return;\n",
              "      }\n",
              "      const div = document.createElement('div');\n",
              "      const label = document.createElement('label');\n",
              "      label.textContent = `Downloading \"${filename}\": `;\n",
              "      div.appendChild(label);\n",
              "      const progress = document.createElement('progress');\n",
              "      progress.max = size;\n",
              "      div.appendChild(progress);\n",
              "      document.body.appendChild(div);\n",
              "\n",
              "      const buffers = [];\n",
              "      let downloaded = 0;\n",
              "\n",
              "      const channel = await google.colab.kernel.comms.open(id);\n",
              "      // Send a message to notify the kernel that we're ready.\n",
              "      channel.send({})\n",
              "\n",
              "      for await (const message of channel.messages) {\n",
              "        // Send a message to notify the kernel that we're ready.\n",
              "        channel.send({})\n",
              "        if (message.buffers) {\n",
              "          for (const buffer of message.buffers) {\n",
              "            buffers.push(buffer);\n",
              "            downloaded += buffer.byteLength;\n",
              "            progress.value = downloaded;\n",
              "          }\n",
              "        }\n",
              "      }\n",
              "      const blob = new Blob(buffers, {type: 'application/binary'});\n",
              "      const a = document.createElement('a');\n",
              "      a.href = window.URL.createObjectURL(blob);\n",
              "      a.download = filename;\n",
              "      div.appendChild(a);\n",
              "      a.click();\n",
              "      div.remove();\n",
              "    }\n",
              "  "
            ],
            "text/plain": [
              "<IPython.core.display.Javascript object>"
            ]
          },
          "metadata": {},
          "output_type": "display_data"
        },
        {
          "data": {
            "application/javascript": [
              "download(\"download_e6420917-62d7-4573-a55c-078d7fa5994c\", \"B\\u00e2timents_commerciaux.xlsx\", 496619)"
            ],
            "text/plain": [
              "<IPython.core.display.Javascript object>"
            ]
          },
          "metadata": {},
          "output_type": "display_data"
        }
      ],
      "source": [
        "# Save the DataFrame as an Excel file\n",
        "df_1230.to_excel('Bâtiments_commerciaux.xlsx', index=False)\n",
        "\n",
        "# Trigger the file download, you can choose the location on your local machine\n",
        "files.download('Bâtiments_commerciaux.xlsx')"
      ]
    },
    {
      "cell_type": "code",
      "execution_count": null,
      "metadata": {
        "colab": {
          "base_uri": "https://localhost:8080/",
          "height": 17
        },
        "id": "AENRQeTPe4YY",
        "outputId": "0fe06250-0e06-4933-f659-8c5955e02027"
      },
      "outputs": [
        {
          "data": {
            "application/javascript": [
              "\n",
              "    async function download(id, filename, size) {\n",
              "      if (!google.colab.kernel.accessAllowed) {\n",
              "        return;\n",
              "      }\n",
              "      const div = document.createElement('div');\n",
              "      const label = document.createElement('label');\n",
              "      label.textContent = `Downloading \"${filename}\": `;\n",
              "      div.appendChild(label);\n",
              "      const progress = document.createElement('progress');\n",
              "      progress.max = size;\n",
              "      div.appendChild(progress);\n",
              "      document.body.appendChild(div);\n",
              "\n",
              "      const buffers = [];\n",
              "      let downloaded = 0;\n",
              "\n",
              "      const channel = await google.colab.kernel.comms.open(id);\n",
              "      // Send a message to notify the kernel that we're ready.\n",
              "      channel.send({})\n",
              "\n",
              "      for await (const message of channel.messages) {\n",
              "        // Send a message to notify the kernel that we're ready.\n",
              "        channel.send({})\n",
              "        if (message.buffers) {\n",
              "          for (const buffer of message.buffers) {\n",
              "            buffers.push(buffer);\n",
              "            downloaded += buffer.byteLength;\n",
              "            progress.value = downloaded;\n",
              "          }\n",
              "        }\n",
              "      }\n",
              "      const blob = new Blob(buffers, {type: 'application/binary'});\n",
              "      const a = document.createElement('a');\n",
              "      a.href = window.URL.createObjectURL(blob);\n",
              "      a.download = filename;\n",
              "      div.appendChild(a);\n",
              "      a.click();\n",
              "      div.remove();\n",
              "    }\n",
              "  "
            ],
            "text/plain": [
              "<IPython.core.display.Javascript object>"
            ]
          },
          "metadata": {},
          "output_type": "display_data"
        },
        {
          "data": {
            "application/javascript": [
              "download(\"download_56c1a96d-0c2a-4c52-a20d-33084f8a2127\", \"B\\u00e2timents_industriels.xlsx\", 1089795)"
            ],
            "text/plain": [
              "<IPython.core.display.Javascript object>"
            ]
          },
          "metadata": {},
          "output_type": "display_data"
        }
      ],
      "source": [
        "# Save the DataFrame as an Excel file\n",
        "df_1251.to_excel('Bâtiments_industriels.xlsx', index=False)\n",
        "\n",
        "# Trigger the file download, you can choose the location on your local machine\n",
        "files.download('Bâtiments_industriels.xlsx')"
      ]
    },
    {
      "cell_type": "code",
      "execution_count": null,
      "metadata": {
        "colab": {
          "base_uri": "https://localhost:8080/",
          "height": 17
        },
        "id": "hzqUGkSFe4cd",
        "outputId": "23fa5227-0e94-4266-bfe6-3a5a17c98fbf"
      },
      "outputs": [
        {
          "data": {
            "application/javascript": [
              "\n",
              "    async function download(id, filename, size) {\n",
              "      if (!google.colab.kernel.accessAllowed) {\n",
              "        return;\n",
              "      }\n",
              "      const div = document.createElement('div');\n",
              "      const label = document.createElement('label');\n",
              "      label.textContent = `Downloading \"${filename}\": `;\n",
              "      div.appendChild(label);\n",
              "      const progress = document.createElement('progress');\n",
              "      progress.max = size;\n",
              "      div.appendChild(progress);\n",
              "      document.body.appendChild(div);\n",
              "\n",
              "      const buffers = [];\n",
              "      let downloaded = 0;\n",
              "\n",
              "      const channel = await google.colab.kernel.comms.open(id);\n",
              "      // Send a message to notify the kernel that we're ready.\n",
              "      channel.send({})\n",
              "\n",
              "      for await (const message of channel.messages) {\n",
              "        // Send a message to notify the kernel that we're ready.\n",
              "        channel.send({})\n",
              "        if (message.buffers) {\n",
              "          for (const buffer of message.buffers) {\n",
              "            buffers.push(buffer);\n",
              "            downloaded += buffer.byteLength;\n",
              "            progress.value = downloaded;\n",
              "          }\n",
              "        }\n",
              "      }\n",
              "      const blob = new Blob(buffers, {type: 'application/binary'});\n",
              "      const a = document.createElement('a');\n",
              "      a.href = window.URL.createObjectURL(blob);\n",
              "      a.download = filename;\n",
              "      div.appendChild(a);\n",
              "      a.click();\n",
              "      div.remove();\n",
              "    }\n",
              "  "
            ],
            "text/plain": [
              "<IPython.core.display.Javascript object>"
            ]
          },
          "metadata": {},
          "output_type": "display_data"
        },
        {
          "data": {
            "application/javascript": [
              "download(\"download_0f3d7a02-2b77-4f66-baca-01ddd6b352f5\", \"B\\u00e2timents_\\u00e0_usage_culturel_r\\u00e9cr\\u00e9atif_\\u00e9ducatif_ou_sanitaire.xlsx\", 122907)"
            ],
            "text/plain": [
              "<IPython.core.display.Javascript object>"
            ]
          },
          "metadata": {},
          "output_type": "display_data"
        }
      ],
      "source": [
        "# Save the DataFrame as an Excel file\n",
        "df_1261.to_excel('Bâtiments_à_usage_culturel_récréatif_éducatif_ou_sanitaire.xlsx', index=False)\n",
        "\n",
        "# Trigger the file download, you can choose the location on your local machine\n",
        "files.download('Bâtiments_à_usage_culturel_récréatif_éducatif_ou_sanitaire.xlsx')"
      ]
    },
    {
      "cell_type": "code",
      "execution_count": null,
      "metadata": {
        "colab": {
          "base_uri": "https://localhost:8080/",
          "height": 17
        },
        "id": "h6WaG-8He4f5",
        "outputId": "573faede-e88c-4354-bd64-8e3af622213d"
      },
      "outputs": [
        {
          "data": {
            "application/javascript": [
              "\n",
              "    async function download(id, filename, size) {\n",
              "      if (!google.colab.kernel.accessAllowed) {\n",
              "        return;\n",
              "      }\n",
              "      const div = document.createElement('div');\n",
              "      const label = document.createElement('label');\n",
              "      label.textContent = `Downloading \"${filename}\": `;\n",
              "      div.appendChild(label);\n",
              "      const progress = document.createElement('progress');\n",
              "      progress.max = size;\n",
              "      div.appendChild(progress);\n",
              "      document.body.appendChild(div);\n",
              "\n",
              "      const buffers = [];\n",
              "      let downloaded = 0;\n",
              "\n",
              "      const channel = await google.colab.kernel.comms.open(id);\n",
              "      // Send a message to notify the kernel that we're ready.\n",
              "      channel.send({})\n",
              "\n",
              "      for await (const message of channel.messages) {\n",
              "        // Send a message to notify the kernel that we're ready.\n",
              "        channel.send({})\n",
              "        if (message.buffers) {\n",
              "          for (const buffer of message.buffers) {\n",
              "            buffers.push(buffer);\n",
              "            downloaded += buffer.byteLength;\n",
              "            progress.value = downloaded;\n",
              "          }\n",
              "        }\n",
              "      }\n",
              "      const blob = new Blob(buffers, {type: 'application/binary'});\n",
              "      const a = document.createElement('a');\n",
              "      a.href = window.URL.createObjectURL(blob);\n",
              "      a.download = filename;\n",
              "      div.appendChild(a);\n",
              "      a.click();\n",
              "      div.remove();\n",
              "    }\n",
              "  "
            ],
            "text/plain": [
              "<IPython.core.display.Javascript object>"
            ]
          },
          "metadata": {},
          "output_type": "display_data"
        },
        {
          "data": {
            "application/javascript": [
              "download(\"download_4ccf64e2-3819-4989-ba72-a2ceefc7bd30\", \"Mus\\u00e9es_et_biblioth\\u00e8ques.xlsx\", 13227)"
            ],
            "text/plain": [
              "<IPython.core.display.Javascript object>"
            ]
          },
          "metadata": {},
          "output_type": "display_data"
        }
      ],
      "source": [
        "# Save the DataFrame as an Excel file\n",
        "df_1262.to_excel('Musées_et_bibliothèques.xlsx', index=False)\n",
        "\n",
        "# Trigger the file download, you can choose the location on your local machine\n",
        "files.download('Musées_et_bibliothèques.xlsx')"
      ]
    },
    {
      "cell_type": "code",
      "execution_count": null,
      "metadata": {
        "colab": {
          "base_uri": "https://localhost:8080/",
          "height": 17
        },
        "id": "mqJwm6jCfXb0",
        "outputId": "fcd12e2b-6b7b-472d-ca1a-fd5c05ef6fc1"
      },
      "outputs": [
        {
          "data": {
            "application/javascript": [
              "\n",
              "    async function download(id, filename, size) {\n",
              "      if (!google.colab.kernel.accessAllowed) {\n",
              "        return;\n",
              "      }\n",
              "      const div = document.createElement('div');\n",
              "      const label = document.createElement('label');\n",
              "      label.textContent = `Downloading \"${filename}\": `;\n",
              "      div.appendChild(label);\n",
              "      const progress = document.createElement('progress');\n",
              "      progress.max = size;\n",
              "      div.appendChild(progress);\n",
              "      document.body.appendChild(div);\n",
              "\n",
              "      const buffers = [];\n",
              "      let downloaded = 0;\n",
              "\n",
              "      const channel = await google.colab.kernel.comms.open(id);\n",
              "      // Send a message to notify the kernel that we're ready.\n",
              "      channel.send({})\n",
              "\n",
              "      for await (const message of channel.messages) {\n",
              "        // Send a message to notify the kernel that we're ready.\n",
              "        channel.send({})\n",
              "        if (message.buffers) {\n",
              "          for (const buffer of message.buffers) {\n",
              "            buffers.push(buffer);\n",
              "            downloaded += buffer.byteLength;\n",
              "            progress.value = downloaded;\n",
              "          }\n",
              "        }\n",
              "      }\n",
              "      const blob = new Blob(buffers, {type: 'application/binary'});\n",
              "      const a = document.createElement('a');\n",
              "      a.href = window.URL.createObjectURL(blob);\n",
              "      a.download = filename;\n",
              "      div.appendChild(a);\n",
              "      a.click();\n",
              "      div.remove();\n",
              "    }\n",
              "  "
            ],
            "text/plain": [
              "<IPython.core.display.Javascript object>"
            ]
          },
          "metadata": {},
          "output_type": "display_data"
        },
        {
          "data": {
            "application/javascript": [
              "download(\"download_04651fbb-0e8c-42b6-a4f4-81bf774a9382\", \"B\\u00e2timents_pour_l_enseignement_et_la_recherche.xlsx\", 290911)"
            ],
            "text/plain": [
              "<IPython.core.display.Javascript object>"
            ]
          },
          "metadata": {},
          "output_type": "display_data"
        }
      ],
      "source": [
        "# Save the DataFrame as an Excel file\n",
        "df_1263.to_excel('Bâtiments_pour_l_enseignement_et_la_recherche.xlsx', index=False)\n",
        "\n",
        "# Trigger the file download, you can choose the location on your local machine\n",
        "files.download('Bâtiments_pour_l_enseignement_et_la_recherche.xlsx')"
      ]
    },
    {
      "cell_type": "code",
      "execution_count": null,
      "metadata": {
        "colab": {
          "base_uri": "https://localhost:8080/",
          "height": 17
        },
        "id": "EsKAieixfXol",
        "outputId": "e77ac537-0c66-429b-d89d-5dcab87998ac"
      },
      "outputs": [
        {
          "data": {
            "application/javascript": [
              "\n",
              "    async function download(id, filename, size) {\n",
              "      if (!google.colab.kernel.accessAllowed) {\n",
              "        return;\n",
              "      }\n",
              "      const div = document.createElement('div');\n",
              "      const label = document.createElement('label');\n",
              "      label.textContent = `Downloading \"${filename}\": `;\n",
              "      div.appendChild(label);\n",
              "      const progress = document.createElement('progress');\n",
              "      progress.max = size;\n",
              "      div.appendChild(progress);\n",
              "      document.body.appendChild(div);\n",
              "\n",
              "      const buffers = [];\n",
              "      let downloaded = 0;\n",
              "\n",
              "      const channel = await google.colab.kernel.comms.open(id);\n",
              "      // Send a message to notify the kernel that we're ready.\n",
              "      channel.send({})\n",
              "\n",
              "      for await (const message of channel.messages) {\n",
              "        // Send a message to notify the kernel that we're ready.\n",
              "        channel.send({})\n",
              "        if (message.buffers) {\n",
              "          for (const buffer of message.buffers) {\n",
              "            buffers.push(buffer);\n",
              "            downloaded += buffer.byteLength;\n",
              "            progress.value = downloaded;\n",
              "          }\n",
              "        }\n",
              "      }\n",
              "      const blob = new Blob(buffers, {type: 'application/binary'});\n",
              "      const a = document.createElement('a');\n",
              "      a.href = window.URL.createObjectURL(blob);\n",
              "      a.download = filename;\n",
              "      div.appendChild(a);\n",
              "      a.click();\n",
              "      div.remove();\n",
              "    }\n",
              "  "
            ],
            "text/plain": [
              "<IPython.core.display.Javascript object>"
            ]
          },
          "metadata": {},
          "output_type": "display_data"
        },
        {
          "data": {
            "application/javascript": [
              "download(\"download_a6545609-4cb1-4687-98d8-308cb8988ec0\", \"H\\u00f4pitaux_et_\\u00e9tablissements_de_sant\\u00e9.xlsx\", 109252)"
            ],
            "text/plain": [
              "<IPython.core.display.Javascript object>"
            ]
          },
          "metadata": {},
          "output_type": "display_data"
        }
      ],
      "source": [
        "# Save the DataFrame as an Excel file\n",
        "df_1264.to_excel('Hôpitaux_et_établissements_de_santé.xlsx', index=False)\n",
        "\n",
        "# Trigger the file download, you can choose the location on your local machine\n",
        "files.download('Hôpitaux_et_établissements_de_santé.xlsx')"
      ]
    },
    {
      "cell_type": "code",
      "execution_count": null,
      "metadata": {
        "colab": {
          "base_uri": "https://localhost:8080/",
          "height": 17
        },
        "id": "wWi7dk_2fX3S",
        "outputId": "4f5323af-282d-4098-cb95-4c5898b8e598"
      },
      "outputs": [
        {
          "data": {
            "application/javascript": [
              "\n",
              "    async function download(id, filename, size) {\n",
              "      if (!google.colab.kernel.accessAllowed) {\n",
              "        return;\n",
              "      }\n",
              "      const div = document.createElement('div');\n",
              "      const label = document.createElement('label');\n",
              "      label.textContent = `Downloading \"${filename}\": `;\n",
              "      div.appendChild(label);\n",
              "      const progress = document.createElement('progress');\n",
              "      progress.max = size;\n",
              "      div.appendChild(progress);\n",
              "      document.body.appendChild(div);\n",
              "\n",
              "      const buffers = [];\n",
              "      let downloaded = 0;\n",
              "\n",
              "      const channel = await google.colab.kernel.comms.open(id);\n",
              "      // Send a message to notify the kernel that we're ready.\n",
              "      channel.send({})\n",
              "\n",
              "      for await (const message of channel.messages) {\n",
              "        // Send a message to notify the kernel that we're ready.\n",
              "        channel.send({})\n",
              "        if (message.buffers) {\n",
              "          for (const buffer of message.buffers) {\n",
              "            buffers.push(buffer);\n",
              "            downloaded += buffer.byteLength;\n",
              "            progress.value = downloaded;\n",
              "          }\n",
              "        }\n",
              "      }\n",
              "      const blob = new Blob(buffers, {type: 'application/binary'});\n",
              "      const a = document.createElement('a');\n",
              "      a.href = window.URL.createObjectURL(blob);\n",
              "      a.download = filename;\n",
              "      div.appendChild(a);\n",
              "      a.click();\n",
              "      div.remove();\n",
              "    }\n",
              "  "
            ],
            "text/plain": [
              "<IPython.core.display.Javascript object>"
            ]
          },
          "metadata": {},
          "output_type": "display_data"
        },
        {
          "data": {
            "application/javascript": [
              "download(\"download_9a853180-1ffe-4523-a586-5b3baad5b811\", \"Salles_de_sport.xlsx\", 36188)"
            ],
            "text/plain": [
              "<IPython.core.display.Javascript object>"
            ]
          },
          "metadata": {},
          "output_type": "display_data"
        }
      ],
      "source": [
        "# Save the DataFrame as an Excel file\n",
        "df_1265.to_excel('Salles_de_sport.xlsx', index=False)\n",
        "\n",
        "# Trigger the file download, you can choose the location on your local machine\n",
        "files.download('Salles_de_sport.xlsx')"
      ]
    },
    {
      "cell_type": "code",
      "execution_count": null,
      "metadata": {
        "id": "9HBFYhO-gYzz"
      },
      "outputs": [],
      "source": []
    }
  ],
  "metadata": {
    "colab": {
      "toc_visible": true,
      "provenance": []
    },
    "kernelspec": {
      "display_name": "Python 3",
      "name": "python3"
    },
    "language_info": {
      "name": "python"
    }
  },
  "nbformat": 4,
  "nbformat_minor": 0
}